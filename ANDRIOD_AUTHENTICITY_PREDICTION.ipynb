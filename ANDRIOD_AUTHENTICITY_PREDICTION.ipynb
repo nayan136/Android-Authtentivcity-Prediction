{
  "cells": [
    {
      "cell_type": "markdown",
      "metadata": {
        "id": "view-in-github",
        "colab_type": "text"
      },
      "source": [
        "<a href=\"https://colab.research.google.com/github/nayan136/Android-Authtentivcity-Prediction/blob/main/ANDRIOD_AUTHENTICITY_PREDICTION.ipynb\" target=\"_parent\"><img src=\"https://colab.research.google.com/assets/colab-badge.svg\" alt=\"Open In Colab\"/></a>"
      ]
    },
    {
      "cell_type": "markdown",
      "metadata": {
        "id": "_v0-n6lYUo8V"
      },
      "source": [
        "# **Project Title : Android Authtentivcity Prediction**"
      ]
    },
    {
      "cell_type": "markdown",
      "metadata": {
        "id": "LGcl5Bv9ed6u"
      },
      "source": [
        "## **Problem Statement**"
      ]
    },
    {
      "cell_type": "markdown",
      "metadata": {
        "id": "8oY8vstDp_uK"
      },
      "source": [
        "This dataset consists of apps needed permissions during installation and run-time. We collect apps from three different sources google play, third-party apps and malware dataset. This file contains more than 30,000 Android apps. features extracted at the time of installation and execution. One file contains the name of the features and others contain .apk file corresponding to it extracted permissions with respective package. Apps are collected from Google's play store, hiapk, app china,  Android,  mumayi , gfan  slideme, and pandaapp.  These .apk files collected from the last three years continuously and contain 81 distinct malware families. But, Here you are only supposed to predict whether the app is benign(0) or malware(1)."
      ]
    },
    {
      "cell_type": "markdown",
      "metadata": {
        "id": "AzGDqdC4fZ-b"
      },
      "source": [
        "## **Attribute Information**"
      ]
    },
    {
      "cell_type": "markdown",
      "metadata": {
        "id": "kJGyhFENyAM4"
      },
      "source": [
        "1 . App :- Name of the App\n",
        " \n",
        "2 . Package :- OBB/Data package installed in root folder\n",
        " \n",
        "3 . Category :-  App Category (eg. Entertainment, Adventure, puzzle, Action, Antivirus, etc.)\n",
        " \n",
        "4 . Description :- App Description\n",
        " \n",
        "5 . Rating :-  Rating out of 5\n",
        " \n",
        "6 . Number of ratings :- No. of Ratings given by users\n",
        " \n",
        "7 . Price :- Price of the App\n",
        " \n",
        "8 . Related apps :-  Apps related to installed App\n",
        " \n",
        "9 . Dangerous **(D)** permissions count :- No. of Dangerous Permissions allowed by user\n",
        " \n",
        "10 . Safe **(S)** permissions count :- No. of Safe Permissions allowed by user\n",
        " \n",
        "11 . Default : Access DRM content. (S) :- 0 : No , 1 : Yes \n",
        " \n",
        "12 . Default : Access Email provider data (S) :- 0 : No , 1 : Yes \n",
        " \n",
        "13 . Default : Access all system downloads (S) :- 0 : No , 1 : Yes \n",
        " \n",
        "14 . Default : Access download manager. (S) :- 0 : No , 1 : Yes \n",
        " \n",
        "15 . Default : Advanced download manager functions. (S) :- 0 : No , 1 : Yes \n",
        " \n",
        "16 . Default : Audio File Access (S) :- 0 : No , 1 : Yes \n",
        " \n",
        "17 . Default : Install DRM content. (S) :- 0 : No , 1 : Yes \n",
        " \n",
        "18 . Default : Modify Google service configuration (S) :- 0 : No , 1 : Yes \n",
        " \n",
        "19 . Default : Modify Google settings (S) :- 0 : No , 1 : Yes \n",
        " \n",
        "20 . Default : Move application resources (S) :- 0 : No , 1 : Yes \n",
        " \n",
        "21 . Default : Read Google settings (S) :- 0 : No , 1 : Yes \n",
        " \n",
        "22 . Default : Send download notifications. (S) :- 0 : No , 1 : Yes \n",
        " \n",
        "23 . Default : Voice Search Shortcuts (S) :- 0 : No , 1 : Yes \n",
        " \n",
        "24 . Default : access SurfaceFlinger (S) :- 0 : No , 1 : Yes \n",
        " \n",
        "25 . Default : access checkin properties (S) :- 0 : No , 1 : Yes \n",
        " \n",
        "26 . Default : access the cache filesystem (S) :- 0 : No , 1 : Yes \n",
        " \n",
        "27 . Default : access to passwords for Google accounts (S) :- 0 : No , 1 : Yes \n",
        " \n",
        "28 . Default : act as an account authenticator (S) :- 0 : No , 1 : Yes \n",
        " \n",
        "29 . Default : bind to a wallpaper (S) :- 0 : No , 1 : Yes \n",
        " \n",
        "30 . Default : bind to an input method (S) :- 0 : No , 1 : Yes \n",
        " \n",
        "31 . Default : change screen orientation (S) :- 0 : No , 1 : Yes \n",
        " \n",
        "32 . Default : coarse (network-based) location (S) :- 0 : No , 1 : Yes \n",
        " \n",
        "33 . Default : control location update notifications (S) :- 0 : No , 1 : Yes \n",
        " \n",
        "34 . Default : control system backup and restore (S) :- 0 : No , 1 : Yes \n",
        " \n",
        "35 . Default : delete applications (S) :- 0 : No , 1 : Yes \n",
        " \n",
        "36 . Default : delete other applications' caches (S) :- 0 : No , 1 : Yes \n",
        " \n",
        "37 . Default : delete other applications' data (S) :- 0 : No , 1 : Yes \n",
        " \n",
        "38 . Default : directly call any phone numbers (S) :- 0 : No , 1 : Yes \n",
        " \n",
        "39 . Default : directly install applications (S) :- 0 : No , 1 : Yes \n",
        " \n",
        "40 . Default : disable or modify status bar (S) :- 0 : No , 1 : Yes \n",
        " \n",
        "41 . Default : discover known accounts (S) :- 0 : No , 1 : Yes \n",
        " \n",
        "42 . Default : display unauthorized windows (S) :- 0 : No , 1 : Yes \n",
        " \n",
        "43 . Default : enable or disable application components (S) :- 0 : No , 1 : Yes \n",
        " \n",
        "44 . Default : force application to close (S) :- 0 : No , 1 : Yes \n",
        " \n",
        "45 . Default : force device reboot (S) :- 0 : No , 1 : Yes \n",
        " \n",
        "46 . Default : full Internet access (S) :- 0 : No , 1 : Yes \n",
        " \n",
        "47 . Default : interact with a device admin (S) :- 0 : No , 1 : Yes \n",
        " \n",
        "48 . Default : manage application tokens (S) :- 0 : No , 1 : Yes \n",
        " \n",
        "49 . Default : mock location sources for testing (S) :- 0 : No , 1 : Yes \n",
        " \n",
        "50 . Default : modify battery statistics (S) :- 0 : No , 1 : Yes \n",
        " \n",
        "51 . Default : modify secure system settings (S) :- 0 : No , 1 : Yes \n",
        " \n",
        "52 . Default : modify the Google services map (S) :- 0 : No , 1 : Yes \n",
        " \n",
        "53 . Default : modify/delete USB storage contents modify/delete SD card contents (S) :- 0 : No , 1 : Yes \n",
        " \n",
        "54 . Default : monitor and control all application launching (S) :- 0 : No , 1 : Yes \n",
        " \n",
        "55 . Default : partial shutdown (S) :- 0 : No , 1 : Yes \n",
        " \n",
        "56 . Default : permanently disable device (S) :- 0 : No , 1 : Yes \n",
        " \n",
        "57 . Default : permission to install a location provider (S) :- 0 : No , 1 : Yes \n",
        " \n",
        "58 . Default : power device on or off (S) :- 0 : No , 1 : Yes \n",
        " \n",
        "59 . Default : press keys and control buttons (S) :- 0 : No , 1 : Yes \n",
        " \n",
        "60 . Default : prevent app switches (S) :- 0 : No , 1 : Yes \n",
        " \n",
        "61 . Default : read frame buffer (S) :- 0 : No , 1 : Yes \n",
        " \n",
        "62 . Default : read instant messages (S) :- 0 : No , 1 : Yes \n",
        " \n",
        "63 . Default : read phone state and identity (S) :- 0 : No , 1 : Yes \n",
        " \n",
        "64 . Default : record what you type and actions you take (S) :- 0 : No , 1 : Yes \n",
        " \n",
        "65 . Default : reset system to factory defaults (S) :- 0 : No , 1 : Yes \n",
        " \n",
        "66 . Default : run in factory test mode (S) :- 0 : No , 1 : Yes \n",
        " \n",
        "67 . Default : set time (S) :- 0 : No , 1 : Yes \n",
        " \n",
        "68 . Default : set wallpaper size hints (S) :- 0 : No , 1 : Yes \n",
        " \n",
        "69 . Default : start IM service (S) :- 0 : No , 1 : Yes \n",
        " \n",
        "70 . Default : update component usage statistics (S) :- 0 : No , 1 : Yes \n",
        " \n",
        "71 . Default : write contact data (S) :- 0 : No , 1 : Yes \n",
        " \n",
        "72 . Default : write instant messages (S) :- 0 : No , 1 : Yes \n",
        " \n",
        "73 . Development tools : enable application debugging (D) :- 0 : No , 1 : Yes \n",
        " \n",
        "74 . Development tools : limit number of running processes (D) :- 0 : No , 1 : Yes \n",
        " \n",
        "75 . Development tools : make all background applications close (D) :- 0 : No , 1 : Yes \n",
        " \n",
        "76 . Development tools : send Linux signals to applications (D) :- 0 : No , 1 : Yes \n",
        " \n",
        "77 . Hardware controls : change your audio settings (D) :- 0 : No , 1 : Yes \n",
        " \n",
        "78 . Hardware controls : control flashlight (S) :- 0 : No , 1 : Yes \n",
        " \n",
        "79 . Hardware controls : control vibrator (S) :- 0 : No , 1 : Yes \n",
        " \n",
        "80 . Hardware controls : record audio (D) :- 0 : No , 1 : Yes \n",
        " \n",
        "81 . Hardware controls : take pictures and videos (D) :- 0 : No , 1 : Yes \n",
        " \n",
        "82 . Hardware controls : test hardware (S) :- 0 : No , 1 : Yes \n",
        " \n",
        "83 . Network communication : Broadcast data messages to applications. (S) :- 0 : No , 1 : Yes \n",
        " \n",
        "84 . Network communication : control Near Field Communication (D) :- 0 : No , 1 : Yes \n",
        " \n",
        "85 . Network communication : create Bluetooth connections (D) :- 0 : No , 1 : Yes \n",
        " \n",
        "86 . Network communication : download files without notification (S) :- 0 : No , 1 : Yes \n",
        " \n",
        "87 . Network communication : full Internet access (D) :- 0 : No , 1 : Yes \n",
        " \n",
        "88 . Network communication : make/receive Internet calls (D) :- 0 : No , 1 : Yes \n",
        " \n",
        "89 . Network communication : receive data from Internet (S) :- 0 : No , 1 : Yes \n",
        " \n",
        "90 . Network communication : view Wi-Fi state (S) :- 0 : No , 1 : Yes \n",
        " \n",
        "91 . Network communication : view network state (S) :- 0 : No , 1 : Yes \n",
        " \n",
        "92 . Phone calls : intercept outgoing calls (D) :- 0 : No , 1 : Yes \n",
        " \n",
        "93 . Phone calls : modify phone state (S) :- 0 : No , 1 : Yes \n",
        " \n",
        "94 . Phone calls : read phone state and identity (D) :- 0 : No , 1 : Yes \n",
        " \n",
        "95 . Services that cost you money : directly call phone numbers (D) :- 0 : No , 1 : Yes \n",
        " \n",
        "96 . Services that cost you money : send SMS messages (D) :- 0 : No , 1 : Yes \n",
        " \n",
        "97 . Storage : modify/delete USB storage contents modify/delete SD card contents (D) :- 0 : No , 1 : Yes \n",
        " \n",
        "98 . System tools : allow Wi-Fi Multicast reception (D) :- 0 : No , 1 : Yes \n",
        " \n",
        "99 . System tools : automatically start at boot (S) :- 0 : No , 1 : Yes \n",
        " \n",
        "100 . System tools : bluetooth administration (D) :- 0 : No , 1 : Yes \n",
        " \n",
        "101 . System tools : change Wi-Fi state (D) :- 0 : No , 1 : Yes \n",
        " \n",
        "102 . System tools : change background data usage setting (S) :- 0 : No , 1 : Yes \n",
        " \n",
        "103 . System tools : change network connectivity (D) :- 0 : No , 1 : Yes \n",
        " \n",
        "104 . System tools : change your UI settings (D) :- 0 : No , 1 : Yes \n",
        " \n",
        "105 . System tools : delete all application cache data (D) :- 0 : No , 1 : Yes \n",
        " \n",
        "106 . System tools : disable keylock (D) :- 0 : No , 1 : Yes \n",
        " \n",
        "107 . System tools : display system-level alerts (D) :- 0 : No , 1 : Yes \n",
        " \n",
        "108 . System tools : expand/collapse status bar (S) :- 0 : No , 1 : Yes \n",
        " \n",
        "109 . System tools : force stop other applications (S) :- 0 : No , 1 : Yes \n",
        " \n",
        "110 . System tools : format external storage (D) :- 0 : No , 1 : Yes \n",
        " \n",
        "111 . System tools : kill background processes (S) :- 0 : No , 1 : Yes \n",
        " \n",
        "112 . System tools : make application always run (D) :- 0 : No , 1 : Yes \n",
        " \n",
        "113 . System tools : measure application storage space (S) :- 0 : No , 1 : Yes \n",
        " \n",
        "114 . System tools : modify global animation speed (D) :- 0 : No , 1 : Yes \n",
        " \n",
        "115 . System tools : modify global system settings (D) :- 0 : No , 1 : Yes \n",
        " \n",
        "116 . System tools : mount and unmount filesystems (D) :- 0 : No , 1 : Yes \n",
        " \n",
        "117 . System tools : prevent device from sleeping (D) :- 0 : No , 1 : Yes \n",
        " \n",
        "118 . System tools : read subscribed feeds (S) :- 0 : No , 1 : Yes \n",
        " \n",
        "119 . System tools : read sync settings (S) :- 0 : No , 1 : Yes \n",
        " \n",
        "120 . System tools : read sync statistics (S) :- 0 : No , 1 : Yes \n",
        " \n",
        "121 . System tools : read/write to resources owned by diag (S) :- 0 : No , 1 : Yes \n",
        " \n",
        "122 . System tools : reorder running applications (D) :- 0 : No , 1 : Yes \n",
        " \n",
        "123 . System tools : retrieve running applications (D) :- 0 : No , 1 : Yes \n",
        " \n",
        "124 . System tools : send package removed broadcast (S) :- 0 : No , 1 : Yes \n",
        " \n",
        "125 . System tools : send sticky broadcast (S) :- 0 : No , 1 : Yes \n",
        " \n",
        "126 . System tools : set preferred applications (S) :- 0 : No , 1 : Yes \n",
        " \n",
        "127 . System tools : set time zone (D) :- 0 : No , 1 : Yes \n",
        " \n",
        "128 . System tools : set wallpaper (S) :- 0 : No , 1 : Yes \n",
        " \n",
        "129 . System tools : set wallpaper size hints (S) :- 0 : No , 1 : Yes \n",
        " \n",
        "130 . System tools : write Access Point Name settings (D) :- 0 : No , 1 : Yes \n",
        " \n",
        "131 . System tools : write subscribed feeds (D) :- 0 : No , 1 : Yes \n",
        " \n",
        "132 . System tools : write sync settings (D) :- 0 : No , 1 : Yes \n",
        " \n",
        "133 . Your accounts : Blogger (D) :- 0 : No , 1 : Yes \n",
        " \n",
        "134 . Your accounts : Google App Engine (D) :- 0 : No , 1 : Yes \n",
        " \n",
        "135 . Your accounts : Google Docs (D) :- 0 : No , 1 : Yes \n",
        " \n",
        "136 . Your accounts : Google Finance (D) :- 0 : No , 1 : Yes \n",
        " \n",
        "137 . Your accounts : Google Maps (D) :- 0 : No , 1 : Yes \n",
        " \n",
        "138 . Your accounts : Google Spreadsheets (D) :- 0 : No , 1 : Yes \n",
        " \n",
        "139 . Your accounts : Google Voice (D) :- 0 : No , 1 : Yes \n",
        " \n",
        "140 . Your accounts : Google mail (D) :- 0 : No , 1 : Yes \n",
        " \n",
        "141 . Your accounts : Picasa Web Albums (D) :- 0 : No , 1 : Yes \n",
        " \n",
        "142 . Your accounts : YouTube (D) :- 0 : No , 1 : Yes \n",
        " \n",
        "143 . Your accounts : YouTube usernames (D) :- 0 : No , 1 : Yes \n",
        " \n",
        "144 . Your accounts : access all Google services (S) :- 0 : No , 1 : Yes \n",
        " \n",
        "145 . Your accounts : access other Google services (D) :- 0 : No , 1 : Yes \n",
        " \n",
        "146 . Your accounts : act as an account authenticator (D) :- 0 : No , 1 : Yes \n",
        " \n",
        "147 . Your accounts : act as the AccountManagerService (S) :- 0 : No , 1 : Yes \n",
        " \n",
        "148 . Your accounts : contacts data in Google accounts (D) :- 0 : No , 1 : Yes \n",
        " \n",
        "149 . Your accounts : discover known accounts (S) :- 0 : No , 1 : Yes \n",
        " \n",
        "150 . Your accounts : manage the accounts list (D) :- 0 : No , 1 : Yes \n",
        " \n",
        "151 . Your accounts : read Google service configuration (S) :- 0 : No , 1 : Yes \n",
        " \n",
        "152 . Your accounts : use the authentication credentials of an account (D) :- 0 : No , 1 : Yes \n",
        " \n",
        "153 . Your accounts : view configured accounts (S) :- 0 : No , 1 : Yes \n",
        " \n",
        "154 . Your location : access extra location provider commands (S) :- 0 : No , 1 : Yes \n",
        " \n",
        "155 . Your location : coarse (network-based) location (D) :- 0 : No , 1 : Yes \n",
        " \n",
        "156 . Your location : fine (GPS) location (D) :- 0 : No , 1 : Yes \n",
        " \n",
        "157 . Your location : mock location sources for testing (D) :- 0 : No , 1 : Yes \n",
        " \n",
        "158 . Your messages : Read Email attachments (D) :- 0 : No , 1 : Yes \n",
        " \n",
        "159 . Your messages : Send Gmail (S) :- 0 : No , 1 : Yes \n",
        " \n",
        "160 . Your messages : edit SMS or MMS (D) :- 0 : No , 1 : Yes \n",
        " \n",
        "161 . Your messages : modify Gmail (D) :- 0 : No , 1 : Yes \n",
        " \n",
        "162 . Your messages : read Gmail (D) :- 0 : No , 1 : Yes \n",
        " \n",
        "163 . Your messages : read Gmail attachment previews (D) :- 0 : No , 1 : Yes \n",
        " \n",
        "164 . Your messages : read SMS or MMS (D) :- 0 : No , 1 : Yes \n",
        " \n",
        "165 . Your messages : read instant messages (D) :- 0 : No , 1 : Yes \n",
        " \n",
        "166 . Your messages : receive MMS (D) :- 0 : No , 1 : Yes \n",
        " \n",
        "167 . Your messages : receive SMS (D) :- 0 : No , 1 : Yes \n",
        " \n",
        "168 . Your messages : receive WAP (D) :- 0 : No , 1 : Yes \n",
        " \n",
        "169 . Your messages : send SMS-received broadcast (S) :- 0 : No , 1 : Yes \n",
        " \n",
        "170 . Your messages : send WAP-PUSH-received broadcast (S) :- 0 : No , 1 : Yes \n",
        " \n",
        "171 . Your messages : write instant messages (D) :- 0 : No , 1 : Yes \n",
        " \n",
        "172 . Your personal information : add or modify calendar events and send email to guests (D) :- 0 : No , 1 : Yes \n",
        " \n",
        "173 . Your personal information : choose widgets (S) :- 0 : No , 1 : Yes \n",
        " \n",
        "174 . Your personal information : read Browser's history and bookmarks (D) :- 0 : No , 1 : Yes \n",
        " \n",
        "175 . Your personal information : read calendar events (D) :- 0 : No , 1 : Yes \n",
        " \n",
        "176 . Your personal information : read contact data (D) :- 0 : No , 1 : Yes \n",
        " \n",
        "177 . Your personal information : read sensitive log data (D) :- 0 : No , 1 : Yes \n",
        " \n",
        "178 . Your personal information : read user defined dictionary (D) :- 0 : No , 1 : Yes \n",
        " \n",
        "179 . Your personal information : retrieve system internal state (S) :- 0 : No , 1 : Yes \n",
        " \n",
        "180 . Your personal information : set alarm in alarm clock (S) :- 0 : No , 1 : Yes \n",
        " \n",
        "181 . Your personal information : write Browser's history and bookmarks (D) :- 0 : No , 1 : Yes \n",
        " \n",
        "182 . Your personal information : write contact data (D) :- 0 : No , 1 : Yes \n",
        " \n",
        "183 . Your personal information : write to user defined dictionary (S) :- 0 : No , 1 : Yes \n",
        " \n",
        "184 . Class :- 0 : Benign , 1 : Malware"
      ]
    },
    {
      "cell_type": "markdown",
      "metadata": {
        "id": "bN6AsLYMU3CK"
      },
      "source": [
        "# Loading Dataset and Importing Modules"
      ]
    },
    {
      "cell_type": "code",
      "execution_count": null,
      "metadata": {
        "id": "qbzVGudAU4yn"
      },
      "outputs": [],
      "source": [
        "# importing the modules\n",
        "import pandas as pd\n",
        "import numpy as np\n",
        "import matplotlib.pyplot as plt\n",
        "import seaborn as sns\n",
        "import math\n",
        "\n",
        "from sklearn.tree import DecisionTreeClassifier\n",
        "from sklearn.ensemble import RandomForestClassifier\n",
        "from sklearn.ensemble import GradientBoostingClassifier\n",
        "from sklearn.neighbors import KNeighborsClassifier\n",
        "from sklearn.naive_bayes import GaussianNB\n",
        "\n",
        "from sklearn.linear_model import LogisticRegression\n",
        "\n",
        "from sklearn.metrics import precision_score, roc_auc_score, accuracy_score, recall_score\n",
        "\n",
        "from sklearn.model_selection import cross_validate\n",
        "from sklearn.model_selection import train_test_split\n",
        "from sklearn.model_selection import GridSearchCV\n",
        "from sklearn.model_selection import cross_val_score\n",
        "from sklearn.model_selection import RepeatedStratifiedKFold\n",
        "from sklearn.model_selection import RandomizedSearchCV\n",
        "\n",
        "%matplotlib inline"
      ]
    },
    {
      "cell_type": "markdown",
      "metadata": {
        "id": "FhTWTBdYU_LF"
      },
      "source": [
        "## Mount the drive and import the datset"
      ]
    },
    {
      "cell_type": "code",
      "execution_count": null,
      "metadata": {
        "colab": {
          "base_uri": "https://localhost:8080/"
        },
        "id": "Xe1kIEO9VEg2",
        "outputId": "7ad024cf-80ff-4372-bf44-9ac5b5c4c5c1"
      },
      "outputs": [
        {
          "output_type": "stream",
          "name": "stdout",
          "text": [
            "Drive already mounted at /content/drive; to attempt to forcibly remount, call drive.mount(\"/content/drive\", force_remount=True).\n"
          ]
        }
      ],
      "source": [
        "# Mount your drive and read the csv file. Make sure you are using the correct file path\n",
        "from google.colab import drive\n",
        "drive.mount('/content/drive')"
      ]
    },
    {
      "cell_type": "code",
      "execution_count": null,
      "metadata": {
        "id": "6_FccUKRVIbD"
      },
      "outputs": [],
      "source": [
        "# loading csv File\n",
        "file_path = '/content/drive/MyDrive/AlmaBetter/Cohort Hardeol/Capstone Projects/Project 3/ANDRIOD AUTHENTICITY PREDICTION.csv'\n",
        "df=pd.read_csv(file_path)"
      ]
    },
    {
      "cell_type": "markdown",
      "metadata": {
        "id": "GBWyUpUb1B0n"
      },
      "source": [
        "## Common functions"
      ]
    },
    {
      "cell_type": "code",
      "execution_count": null,
      "metadata": {
        "id": "o0CoOlPM1EQ3"
      },
      "outputs": [],
      "source": [
        "def get_missing_count(data_df):\n",
        "  missing_value_count = {}\n",
        "  for col in df.columns:\n",
        "    total = shape[0]\n",
        "    missing_count = data_df[col].isna().sum()\n",
        "    if missing_count > 0:\n",
        "      missing_value_count[col] = {'total_missing_values': missing_count, 'missing_percentage': round(missing_count/total,2) }\n",
        "  \n",
        "  return missing_value_count"
      ]
    },
    {
      "cell_type": "code",
      "execution_count": null,
      "metadata": {
        "id": "u0WRC-Y7qj-z"
      },
      "outputs": [],
      "source": [
        "def regression_line_plot(df, col,dependent_variable):\n",
        "  fig = plt.figure(figsize=(9, 6))\n",
        "  ax = fig.gca()\n",
        "  feature = df[col]\n",
        "  label = df[dependent_variable]\n",
        "  correlation = feature.corr(label)\n",
        "  plt.scatter(x=feature, y=label)\n",
        "  plt.xlabel(col)\n",
        "  plt.ylabel(dependent_variable)\n",
        "  ax.set_title(dependent_variable+' vs '+col+' - correlation: ' + str(correlation))\n",
        "  z = np.polyfit(df[col], df[dependent_variable], 1)\n",
        "  y_hat = np.poly1d(z)(df[col])\n",
        "  plt.plot(df[col], y_hat, \"r--\", lw=1)"
      ]
    },
    {
      "cell_type": "code",
      "source": [
        "class ClassficationModel:\n",
        "  def __init__(self, X, y):\n",
        "     self.X_train, self.X_test, self.y_train, self.y_test = train_test_split(X, y, test_size = 0.3, random_state = 0) \n",
        "     self.model_scores_dict_train = {}\n",
        "     self.model_scores_dict_test = {}\n",
        "     self.model_scores_dict = {}\n",
        "     self.models = []\n",
        "     self.model_names = []\n",
        "  \n",
        "  def model(self,model, model_name):\n",
        "     self.models.append(model)\n",
        "     self.model_names.append(model_name)\n",
        "     self.__estimate_train_values()\n",
        "     self.__estimate_test_values()\n",
        "\n",
        "  def get_predicted_values(self):\n",
        "    return self.Y_train_predicted\n",
        "\n",
        "  def __estimate_train_values(self):\n",
        "    self.models[-1].fit(self.X_train, self.y_train)\n",
        "    self.Y_train_predicted = self.models[-1].predict(self.X_train)\n",
        "\n",
        "  def __estimate_test_values(self):\n",
        "    self.Y_test_predicted = self.models[-1].predict(self.X_test)\n",
        "\n",
        "  def __evaluation_metrics(self, Y_val, Y_predicted):\n",
        "    # AUC\n",
        "    auc = roc_auc_score(Y_val, Y_predicted)\n",
        "    # Accuracy\n",
        "    accuracy = accuracy_score(Y_val, Y_predicted)\n",
        "    # Precision\n",
        "    precision = precision_score(Y_val, Y_predicted)\n",
        "    # Recall\n",
        "    recall = recall_score(Y_val, Y_predicted)\n",
        "    return {\n",
        "        \"AUC\"        : auc,\n",
        "        \"Accuracy\"   : accuracy,\n",
        "        \"Precision\"  : precision,\n",
        "        \"Recall\"     : recall\n",
        "    }\n",
        "\n",
        "  def __show_evaluation_metrics(self, score_dict):\n",
        "    for key, value in score_dict.items():\n",
        "      print(key,' : ',value)\n",
        "\n",
        "  def __save_model_scores(self, train_model_score, test_model_score):\n",
        "    model_score = {}\n",
        "    self.model_scores_dict_train[self.model_names[-1]] = train_model_score\n",
        "    self.model_scores_dict_test[self.model_names[-1]] = test_model_score\n",
        "\n",
        "  def model_evaluation_show_and_save(self):\n",
        "    train_score = self.__evaluation_metrics(self.y_train, self.Y_train_predicted)\n",
        "    print('For Train Data: ')\n",
        "    self.__show_evaluation_metrics(train_score)\n",
        "    print(\"-\"*40)\n",
        "    test_score = self.__evaluation_metrics(self.y_test, self.Y_test_predicted)\n",
        "    print('For Test Data: ')\n",
        "    self.__show_evaluation_metrics(test_score)\n",
        "    self.__save_model_scores(train_score, test_score)\n",
        "\n",
        "  def show_model_scores(self):\n",
        "    self.model_scores_dict = {\n",
        "        'Train': self.model_scores_dict_train,\n",
        "        'Test' : self.model_scores_dict_test\n",
        "    }\n",
        "    reformed_dict = {}\n",
        "    for outerKey, innerDict in self.model_scores_dict.items():\n",
        "      for innerKey, values in innerDict.items():\n",
        "        reformed_dict[(outerKey, innerKey)] = values\n",
        "\n",
        "    # Display multiindex dataframe\n",
        "    return pd.DataFrame(reformed_dict)\n",
        "    "
      ],
      "metadata": {
        "id": "YXfZl8Bdjp-L"
      },
      "execution_count": null,
      "outputs": []
    },
    {
      "cell_type": "markdown",
      "metadata": {
        "id": "rEiyEoxDVV5d"
      },
      "source": [
        "# Understand More About The Data"
      ]
    },
    {
      "cell_type": "markdown",
      "metadata": {
        "id": "MkmaJCtwVYxy"
      },
      "source": [
        "## summary of data"
      ]
    },
    {
      "cell_type": "code",
      "execution_count": null,
      "metadata": {
        "colab": {
          "base_uri": "https://localhost:8080/",
          "height": 664
        },
        "id": "QM0YWGAtVa8o",
        "outputId": "41446f14-6074-49c6-d1b2-8fe645f038e7"
      },
      "outputs": [
        {
          "output_type": "execute_result",
          "data": {
            "text/plain": [
              "                              App                                   Package  \\\n",
              "0         Canada Post Corporation                    com.canadapost.android   \n",
              "1                       Word Farm                 com.realcasualgames.words   \n",
              "2            Fortunes of War FREE                        fortunesofwar.free   \n",
              "3  Better Keyboard: Avatar Purple  com.cc.betterkeyboard.skins.avatarpurple   \n",
              "4                      Boxing Day                indiaNIC.android.BoxingDay   \n",
              "\n",
              "           Category                                        Description  \\\n",
              "0          Business  Canada Post Mobile App gives you access to som...   \n",
              "1    Brain & Puzzle  Speed and strategy combine in this exciting wo...   \n",
              "2    Cards & Casino  Fortunes of War is a fast-paced, easy to learn...   \n",
              "3  Libraries & Demo  Skin for Better Keyboard featuring a glossy fe...   \n",
              "4         Lifestyle  Boxing Day by Christopher Jaymes<p>Based on a ...   \n",
              "\n",
              "   Rating  Number of ratings  Price  \\\n",
              "0     3.1                 77   0.00   \n",
              "1     4.3                199   0.00   \n",
              "2     4.1                243   0.00   \n",
              "3     3.6               2589   0.00   \n",
              "4     0.0                  0   5.99   \n",
              "\n",
              "                                        Related apps  \\\n",
              "0  {com.adaffix.pub.ca.android, com.kevinquan.gas...   \n",
              "1  {air.com.zubawing.FastWordLite, com.joybits.do...   \n",
              "2  {com.kevinquan.condado, hu.monsta.pazaak, net....   \n",
              "3  {eu.gdumoulin.betterandroid.skins.transparent....   \n",
              "4                                                NaN   \n",
              "\n",
              "   Dangerous permissions count  Safe permissions count  ...  \\\n",
              "0                          7.0                       1  ...   \n",
              "1                          3.0                       2  ...   \n",
              "2                          1.0                       1  ...   \n",
              "3                          0.0                       0  ...   \n",
              "4                          1.0                       0  ...   \n",
              "\n",
              "   Your personal information : read calendar events (D)  \\\n",
              "0                                                  0      \n",
              "1                                                  0      \n",
              "2                                                  0      \n",
              "3                                                  0      \n",
              "4                                                  0      \n",
              "\n",
              "   Your personal information : read contact data (D)  \\\n",
              "0                                                  1   \n",
              "1                                                  0   \n",
              "2                                                  0   \n",
              "3                                                  0   \n",
              "4                                                  0   \n",
              "\n",
              "   Your personal information : read sensitive log data (D)  \\\n",
              "0                                                  0         \n",
              "1                                                  0         \n",
              "2                                                  0         \n",
              "3                                                  0         \n",
              "4                                                  0         \n",
              "\n",
              "   Your personal information : read user defined dictionary (D)  \\\n",
              "0                                                  0              \n",
              "1                                                  0              \n",
              "2                                                  0              \n",
              "3                                                  0              \n",
              "4                                                  0              \n",
              "\n",
              "   Your personal information : retrieve system internal state (S)  \\\n",
              "0                                                  0                \n",
              "1                                                  0                \n",
              "2                                                  0                \n",
              "3                                                  0                \n",
              "4                                                  0                \n",
              "\n",
              "   Your personal information : set alarm in alarm clock (S)  \\\n",
              "0                                                  0          \n",
              "1                                                  0          \n",
              "2                                                  0          \n",
              "3                                                  0          \n",
              "4                                                  0          \n",
              "\n",
              "   Your personal information : write Browser's history and bookmarks (D)  \\\n",
              "0                                                  0                       \n",
              "1                                                  0                       \n",
              "2                                                  0                       \n",
              "3                                                  0                       \n",
              "4                                                  0                       \n",
              "\n",
              "   Your personal information : write contact data (D)  \\\n",
              "0                                                  1    \n",
              "1                                                  0    \n",
              "2                                                  0    \n",
              "3                                                  0    \n",
              "4                                                  0    \n",
              "\n",
              "   Your personal information : write to user defined dictionary (S)  Class  \n",
              "0                                                  0                     0  \n",
              "1                                                  0                     0  \n",
              "2                                                  0                     0  \n",
              "3                                                  0                     0  \n",
              "4                                                  0                     1  \n",
              "\n",
              "[5 rows x 184 columns]"
            ],
            "text/html": [
              "\n",
              "  <div id=\"df-28779cb0-160a-4d8d-a1c8-05ffa2268522\">\n",
              "    <div class=\"colab-df-container\">\n",
              "      <div>\n",
              "<style scoped>\n",
              "    .dataframe tbody tr th:only-of-type {\n",
              "        vertical-align: middle;\n",
              "    }\n",
              "\n",
              "    .dataframe tbody tr th {\n",
              "        vertical-align: top;\n",
              "    }\n",
              "\n",
              "    .dataframe thead th {\n",
              "        text-align: right;\n",
              "    }\n",
              "</style>\n",
              "<table border=\"1\" class=\"dataframe\">\n",
              "  <thead>\n",
              "    <tr style=\"text-align: right;\">\n",
              "      <th></th>\n",
              "      <th>App</th>\n",
              "      <th>Package</th>\n",
              "      <th>Category</th>\n",
              "      <th>Description</th>\n",
              "      <th>Rating</th>\n",
              "      <th>Number of ratings</th>\n",
              "      <th>Price</th>\n",
              "      <th>Related apps</th>\n",
              "      <th>Dangerous permissions count</th>\n",
              "      <th>Safe permissions count</th>\n",
              "      <th>...</th>\n",
              "      <th>Your personal information : read calendar events (D)</th>\n",
              "      <th>Your personal information : read contact data (D)</th>\n",
              "      <th>Your personal information : read sensitive log data (D)</th>\n",
              "      <th>Your personal information : read user defined dictionary (D)</th>\n",
              "      <th>Your personal information : retrieve system internal state (S)</th>\n",
              "      <th>Your personal information : set alarm in alarm clock (S)</th>\n",
              "      <th>Your personal information : write Browser's history and bookmarks (D)</th>\n",
              "      <th>Your personal information : write contact data (D)</th>\n",
              "      <th>Your personal information : write to user defined dictionary (S)</th>\n",
              "      <th>Class</th>\n",
              "    </tr>\n",
              "  </thead>\n",
              "  <tbody>\n",
              "    <tr>\n",
              "      <th>0</th>\n",
              "      <td>Canada Post Corporation</td>\n",
              "      <td>com.canadapost.android</td>\n",
              "      <td>Business</td>\n",
              "      <td>Canada Post Mobile App gives you access to som...</td>\n",
              "      <td>3.1</td>\n",
              "      <td>77</td>\n",
              "      <td>0.00</td>\n",
              "      <td>{com.adaffix.pub.ca.android, com.kevinquan.gas...</td>\n",
              "      <td>7.0</td>\n",
              "      <td>1</td>\n",
              "      <td>...</td>\n",
              "      <td>0</td>\n",
              "      <td>1</td>\n",
              "      <td>0</td>\n",
              "      <td>0</td>\n",
              "      <td>0</td>\n",
              "      <td>0</td>\n",
              "      <td>0</td>\n",
              "      <td>1</td>\n",
              "      <td>0</td>\n",
              "      <td>0</td>\n",
              "    </tr>\n",
              "    <tr>\n",
              "      <th>1</th>\n",
              "      <td>Word Farm</td>\n",
              "      <td>com.realcasualgames.words</td>\n",
              "      <td>Brain &amp; Puzzle</td>\n",
              "      <td>Speed and strategy combine in this exciting wo...</td>\n",
              "      <td>4.3</td>\n",
              "      <td>199</td>\n",
              "      <td>0.00</td>\n",
              "      <td>{air.com.zubawing.FastWordLite, com.joybits.do...</td>\n",
              "      <td>3.0</td>\n",
              "      <td>2</td>\n",
              "      <td>...</td>\n",
              "      <td>0</td>\n",
              "      <td>0</td>\n",
              "      <td>0</td>\n",
              "      <td>0</td>\n",
              "      <td>0</td>\n",
              "      <td>0</td>\n",
              "      <td>0</td>\n",
              "      <td>0</td>\n",
              "      <td>0</td>\n",
              "      <td>0</td>\n",
              "    </tr>\n",
              "    <tr>\n",
              "      <th>2</th>\n",
              "      <td>Fortunes of War FREE</td>\n",
              "      <td>fortunesofwar.free</td>\n",
              "      <td>Cards &amp; Casino</td>\n",
              "      <td>Fortunes of War is a fast-paced, easy to learn...</td>\n",
              "      <td>4.1</td>\n",
              "      <td>243</td>\n",
              "      <td>0.00</td>\n",
              "      <td>{com.kevinquan.condado, hu.monsta.pazaak, net....</td>\n",
              "      <td>1.0</td>\n",
              "      <td>1</td>\n",
              "      <td>...</td>\n",
              "      <td>0</td>\n",
              "      <td>0</td>\n",
              "      <td>0</td>\n",
              "      <td>0</td>\n",
              "      <td>0</td>\n",
              "      <td>0</td>\n",
              "      <td>0</td>\n",
              "      <td>0</td>\n",
              "      <td>0</td>\n",
              "      <td>0</td>\n",
              "    </tr>\n",
              "    <tr>\n",
              "      <th>3</th>\n",
              "      <td>Better Keyboard: Avatar Purple</td>\n",
              "      <td>com.cc.betterkeyboard.skins.avatarpurple</td>\n",
              "      <td>Libraries &amp; Demo</td>\n",
              "      <td>Skin for Better Keyboard featuring a glossy fe...</td>\n",
              "      <td>3.6</td>\n",
              "      <td>2589</td>\n",
              "      <td>0.00</td>\n",
              "      <td>{eu.gdumoulin.betterandroid.skins.transparent....</td>\n",
              "      <td>0.0</td>\n",
              "      <td>0</td>\n",
              "      <td>...</td>\n",
              "      <td>0</td>\n",
              "      <td>0</td>\n",
              "      <td>0</td>\n",
              "      <td>0</td>\n",
              "      <td>0</td>\n",
              "      <td>0</td>\n",
              "      <td>0</td>\n",
              "      <td>0</td>\n",
              "      <td>0</td>\n",
              "      <td>0</td>\n",
              "    </tr>\n",
              "    <tr>\n",
              "      <th>4</th>\n",
              "      <td>Boxing Day</td>\n",
              "      <td>indiaNIC.android.BoxingDay</td>\n",
              "      <td>Lifestyle</td>\n",
              "      <td>Boxing Day by Christopher Jaymes&lt;p&gt;Based on a ...</td>\n",
              "      <td>0.0</td>\n",
              "      <td>0</td>\n",
              "      <td>5.99</td>\n",
              "      <td>NaN</td>\n",
              "      <td>1.0</td>\n",
              "      <td>0</td>\n",
              "      <td>...</td>\n",
              "      <td>0</td>\n",
              "      <td>0</td>\n",
              "      <td>0</td>\n",
              "      <td>0</td>\n",
              "      <td>0</td>\n",
              "      <td>0</td>\n",
              "      <td>0</td>\n",
              "      <td>0</td>\n",
              "      <td>0</td>\n",
              "      <td>1</td>\n",
              "    </tr>\n",
              "  </tbody>\n",
              "</table>\n",
              "<p>5 rows × 184 columns</p>\n",
              "</div>\n",
              "      <button class=\"colab-df-convert\" onclick=\"convertToInteractive('df-28779cb0-160a-4d8d-a1c8-05ffa2268522')\"\n",
              "              title=\"Convert this dataframe to an interactive table.\"\n",
              "              style=\"display:none;\">\n",
              "        \n",
              "  <svg xmlns=\"http://www.w3.org/2000/svg\" height=\"24px\"viewBox=\"0 0 24 24\"\n",
              "       width=\"24px\">\n",
              "    <path d=\"M0 0h24v24H0V0z\" fill=\"none\"/>\n",
              "    <path d=\"M18.56 5.44l.94 2.06.94-2.06 2.06-.94-2.06-.94-.94-2.06-.94 2.06-2.06.94zm-11 1L8.5 8.5l.94-2.06 2.06-.94-2.06-.94L8.5 2.5l-.94 2.06-2.06.94zm10 10l.94 2.06.94-2.06 2.06-.94-2.06-.94-.94-2.06-.94 2.06-2.06.94z\"/><path d=\"M17.41 7.96l-1.37-1.37c-.4-.4-.92-.59-1.43-.59-.52 0-1.04.2-1.43.59L10.3 9.45l-7.72 7.72c-.78.78-.78 2.05 0 2.83L4 21.41c.39.39.9.59 1.41.59.51 0 1.02-.2 1.41-.59l7.78-7.78 2.81-2.81c.8-.78.8-2.07 0-2.86zM5.41 20L4 18.59l7.72-7.72 1.47 1.35L5.41 20z\"/>\n",
              "  </svg>\n",
              "      </button>\n",
              "      \n",
              "  <style>\n",
              "    .colab-df-container {\n",
              "      display:flex;\n",
              "      flex-wrap:wrap;\n",
              "      gap: 12px;\n",
              "    }\n",
              "\n",
              "    .colab-df-convert {\n",
              "      background-color: #E8F0FE;\n",
              "      border: none;\n",
              "      border-radius: 50%;\n",
              "      cursor: pointer;\n",
              "      display: none;\n",
              "      fill: #1967D2;\n",
              "      height: 32px;\n",
              "      padding: 0 0 0 0;\n",
              "      width: 32px;\n",
              "    }\n",
              "\n",
              "    .colab-df-convert:hover {\n",
              "      background-color: #E2EBFA;\n",
              "      box-shadow: 0px 1px 2px rgba(60, 64, 67, 0.3), 0px 1px 3px 1px rgba(60, 64, 67, 0.15);\n",
              "      fill: #174EA6;\n",
              "    }\n",
              "\n",
              "    [theme=dark] .colab-df-convert {\n",
              "      background-color: #3B4455;\n",
              "      fill: #D2E3FC;\n",
              "    }\n",
              "\n",
              "    [theme=dark] .colab-df-convert:hover {\n",
              "      background-color: #434B5C;\n",
              "      box-shadow: 0px 1px 3px 1px rgba(0, 0, 0, 0.15);\n",
              "      filter: drop-shadow(0px 1px 2px rgba(0, 0, 0, 0.3));\n",
              "      fill: #FFFFFF;\n",
              "    }\n",
              "  </style>\n",
              "\n",
              "      <script>\n",
              "        const buttonEl =\n",
              "          document.querySelector('#df-28779cb0-160a-4d8d-a1c8-05ffa2268522 button.colab-df-convert');\n",
              "        buttonEl.style.display =\n",
              "          google.colab.kernel.accessAllowed ? 'block' : 'none';\n",
              "\n",
              "        async function convertToInteractive(key) {\n",
              "          const element = document.querySelector('#df-28779cb0-160a-4d8d-a1c8-05ffa2268522');\n",
              "          const dataTable =\n",
              "            await google.colab.kernel.invokeFunction('convertToInteractive',\n",
              "                                                     [key], {});\n",
              "          if (!dataTable) return;\n",
              "\n",
              "          const docLinkHtml = 'Like what you see? Visit the ' +\n",
              "            '<a target=\"_blank\" href=https://colab.research.google.com/notebooks/data_table.ipynb>data table notebook</a>'\n",
              "            + ' to learn more about interactive tables.';\n",
              "          element.innerHTML = '';\n",
              "          dataTable['output_type'] = 'display_data';\n",
              "          await google.colab.output.renderOutput(dataTable, element);\n",
              "          const docLink = document.createElement('div');\n",
              "          docLink.innerHTML = docLinkHtml;\n",
              "          element.appendChild(docLink);\n",
              "        }\n",
              "      </script>\n",
              "    </div>\n",
              "  </div>\n",
              "  "
            ]
          },
          "metadata": {},
          "execution_count": 97
        }
      ],
      "source": [
        "# View top 5 rows of the data\n",
        "df.head()"
      ]
    },
    {
      "cell_type": "code",
      "execution_count": null,
      "metadata": {
        "colab": {
          "base_uri": "https://localhost:8080/",
          "height": 699
        },
        "id": "bzXptRI9VfcS",
        "outputId": "789ea69e-3058-43c6-caa8-6dd7017e1e95"
      },
      "outputs": [
        {
          "output_type": "execute_result",
          "data": {
            "text/plain": [
              "                           App                       Package         Category  \\\n",
              "29994          Beechwood Hotel           smartstay.beechwood   Travel & Local   \n",
              "29995  ZDefense: Tower Defense         mobi.zstudio.avi.full  Arcade & Action   \n",
              "29996   Super Task Killer FREE          com.netqin.aotkiller            Tools   \n",
              "29997  Ambassador Hotel Taipei           VMC.Ambassadorhotel   Travel & Local   \n",
              "29998          Brain Ball Game  myapp.lecz.android.tiltmazes   Brain & Puzzle   \n",
              "\n",
              "                                             Description  Rating  \\\n",
              "29994  Beechwood is an Android hotel app for guests, ...     5.0   \n",
              "29995  Explosive Tower Defense!<p>Top Tower Defense G...     4.6   \n",
              "29996  Get it for FREE. Quickly Kill running apps. Fr...     4.2   \n",
              "29997  Key features of this App: <br>1. View photos o...     3.4   \n",
              "29998  A ball sits in a flat tray containing one or m...     3.0   \n",
              "\n",
              "       Number of ratings  Price  \\\n",
              "29994                  2   0.00   \n",
              "29995                 56   2.99   \n",
              "29996               6101   0.00   \n",
              "29997                  5   0.00   \n",
              "29998                  2   0.00   \n",
              "\n",
              "                                            Related apps  \\\n",
              "29994  {com.bluewaterpages, com.travelconnection.luxu...   \n",
              "29995  {com.entwicklerx.swampdefense, com.digimentgam...   \n",
              "29996  {com.guardam.TaskKiller, com.netqin.authtoken_...   \n",
              "29997  {com.hyxen.app.NewTaipeiTravel, j2ab.android.t...   \n",
              "29998  {com.twistedmirror.alberiplus, com.freesoul.Mo...   \n",
              "\n",
              "       Dangerous permissions count  Safe permissions count  ...  \\\n",
              "29994                          3.0                       1  ...   \n",
              "29995                          3.0                       3  ...   \n",
              "29996                          4.0                       3  ...   \n",
              "29997                          3.0                       0  ...   \n",
              "29998                          3.0                       2  ...   \n",
              "\n",
              "       Your personal information : read calendar events (D)  \\\n",
              "29994                                                  0      \n",
              "29995                                                  0      \n",
              "29996                                                  0      \n",
              "29997                                                  0      \n",
              "29998                                                  0      \n",
              "\n",
              "       Your personal information : read contact data (D)  \\\n",
              "29994                                                  0   \n",
              "29995                                                  0   \n",
              "29996                                                  0   \n",
              "29997                                                  0   \n",
              "29998                                                  0   \n",
              "\n",
              "       Your personal information : read sensitive log data (D)  \\\n",
              "29994                                                  0         \n",
              "29995                                                  0         \n",
              "29996                                                  0         \n",
              "29997                                                  0         \n",
              "29998                                                  0         \n",
              "\n",
              "       Your personal information : read user defined dictionary (D)  \\\n",
              "29994                                                  0              \n",
              "29995                                                  0              \n",
              "29996                                                  0              \n",
              "29997                                                  0              \n",
              "29998                                                  0              \n",
              "\n",
              "       Your personal information : retrieve system internal state (S)  \\\n",
              "29994                                                  0                \n",
              "29995                                                  0                \n",
              "29996                                                  0                \n",
              "29997                                                  0                \n",
              "29998                                                  0                \n",
              "\n",
              "       Your personal information : set alarm in alarm clock (S)  \\\n",
              "29994                                                  0          \n",
              "29995                                                  0          \n",
              "29996                                                  0          \n",
              "29997                                                  0          \n",
              "29998                                                  0          \n",
              "\n",
              "       Your personal information : write Browser's history and bookmarks (D)  \\\n",
              "29994                                                  0                       \n",
              "29995                                                  0                       \n",
              "29996                                                  0                       \n",
              "29997                                                  0                       \n",
              "29998                                                  0                       \n",
              "\n",
              "       Your personal information : write contact data (D)  \\\n",
              "29994                                                  0    \n",
              "29995                                                  0    \n",
              "29996                                                  0    \n",
              "29997                                                  0    \n",
              "29998                                                  0    \n",
              "\n",
              "       Your personal information : write to user defined dictionary (S)  Class  \n",
              "29994                                                  0                     1  \n",
              "29995                                                  0                     1  \n",
              "29996                                                  0                     1  \n",
              "29997                                                  0                     1  \n",
              "29998                                                  0                     1  \n",
              "\n",
              "[5 rows x 184 columns]"
            ],
            "text/html": [
              "\n",
              "  <div id=\"df-16901b82-0b62-4359-b933-b29d170a4a1f\">\n",
              "    <div class=\"colab-df-container\">\n",
              "      <div>\n",
              "<style scoped>\n",
              "    .dataframe tbody tr th:only-of-type {\n",
              "        vertical-align: middle;\n",
              "    }\n",
              "\n",
              "    .dataframe tbody tr th {\n",
              "        vertical-align: top;\n",
              "    }\n",
              "\n",
              "    .dataframe thead th {\n",
              "        text-align: right;\n",
              "    }\n",
              "</style>\n",
              "<table border=\"1\" class=\"dataframe\">\n",
              "  <thead>\n",
              "    <tr style=\"text-align: right;\">\n",
              "      <th></th>\n",
              "      <th>App</th>\n",
              "      <th>Package</th>\n",
              "      <th>Category</th>\n",
              "      <th>Description</th>\n",
              "      <th>Rating</th>\n",
              "      <th>Number of ratings</th>\n",
              "      <th>Price</th>\n",
              "      <th>Related apps</th>\n",
              "      <th>Dangerous permissions count</th>\n",
              "      <th>Safe permissions count</th>\n",
              "      <th>...</th>\n",
              "      <th>Your personal information : read calendar events (D)</th>\n",
              "      <th>Your personal information : read contact data (D)</th>\n",
              "      <th>Your personal information : read sensitive log data (D)</th>\n",
              "      <th>Your personal information : read user defined dictionary (D)</th>\n",
              "      <th>Your personal information : retrieve system internal state (S)</th>\n",
              "      <th>Your personal information : set alarm in alarm clock (S)</th>\n",
              "      <th>Your personal information : write Browser's history and bookmarks (D)</th>\n",
              "      <th>Your personal information : write contact data (D)</th>\n",
              "      <th>Your personal information : write to user defined dictionary (S)</th>\n",
              "      <th>Class</th>\n",
              "    </tr>\n",
              "  </thead>\n",
              "  <tbody>\n",
              "    <tr>\n",
              "      <th>29994</th>\n",
              "      <td>Beechwood Hotel</td>\n",
              "      <td>smartstay.beechwood</td>\n",
              "      <td>Travel &amp; Local</td>\n",
              "      <td>Beechwood is an Android hotel app for guests, ...</td>\n",
              "      <td>5.0</td>\n",
              "      <td>2</td>\n",
              "      <td>0.00</td>\n",
              "      <td>{com.bluewaterpages, com.travelconnection.luxu...</td>\n",
              "      <td>3.0</td>\n",
              "      <td>1</td>\n",
              "      <td>...</td>\n",
              "      <td>0</td>\n",
              "      <td>0</td>\n",
              "      <td>0</td>\n",
              "      <td>0</td>\n",
              "      <td>0</td>\n",
              "      <td>0</td>\n",
              "      <td>0</td>\n",
              "      <td>0</td>\n",
              "      <td>0</td>\n",
              "      <td>1</td>\n",
              "    </tr>\n",
              "    <tr>\n",
              "      <th>29995</th>\n",
              "      <td>ZDefense: Tower Defense</td>\n",
              "      <td>mobi.zstudio.avi.full</td>\n",
              "      <td>Arcade &amp; Action</td>\n",
              "      <td>Explosive Tower Defense!&lt;p&gt;Top Tower Defense G...</td>\n",
              "      <td>4.6</td>\n",
              "      <td>56</td>\n",
              "      <td>2.99</td>\n",
              "      <td>{com.entwicklerx.swampdefense, com.digimentgam...</td>\n",
              "      <td>3.0</td>\n",
              "      <td>3</td>\n",
              "      <td>...</td>\n",
              "      <td>0</td>\n",
              "      <td>0</td>\n",
              "      <td>0</td>\n",
              "      <td>0</td>\n",
              "      <td>0</td>\n",
              "      <td>0</td>\n",
              "      <td>0</td>\n",
              "      <td>0</td>\n",
              "      <td>0</td>\n",
              "      <td>1</td>\n",
              "    </tr>\n",
              "    <tr>\n",
              "      <th>29996</th>\n",
              "      <td>Super Task Killer FREE</td>\n",
              "      <td>com.netqin.aotkiller</td>\n",
              "      <td>Tools</td>\n",
              "      <td>Get it for FREE. Quickly Kill running apps. Fr...</td>\n",
              "      <td>4.2</td>\n",
              "      <td>6101</td>\n",
              "      <td>0.00</td>\n",
              "      <td>{com.guardam.TaskKiller, com.netqin.authtoken_...</td>\n",
              "      <td>4.0</td>\n",
              "      <td>3</td>\n",
              "      <td>...</td>\n",
              "      <td>0</td>\n",
              "      <td>0</td>\n",
              "      <td>0</td>\n",
              "      <td>0</td>\n",
              "      <td>0</td>\n",
              "      <td>0</td>\n",
              "      <td>0</td>\n",
              "      <td>0</td>\n",
              "      <td>0</td>\n",
              "      <td>1</td>\n",
              "    </tr>\n",
              "    <tr>\n",
              "      <th>29997</th>\n",
              "      <td>Ambassador Hotel Taipei</td>\n",
              "      <td>VMC.Ambassadorhotel</td>\n",
              "      <td>Travel &amp; Local</td>\n",
              "      <td>Key features of this App: &lt;br&gt;1. View photos o...</td>\n",
              "      <td>3.4</td>\n",
              "      <td>5</td>\n",
              "      <td>0.00</td>\n",
              "      <td>{com.hyxen.app.NewTaipeiTravel, j2ab.android.t...</td>\n",
              "      <td>3.0</td>\n",
              "      <td>0</td>\n",
              "      <td>...</td>\n",
              "      <td>0</td>\n",
              "      <td>0</td>\n",
              "      <td>0</td>\n",
              "      <td>0</td>\n",
              "      <td>0</td>\n",
              "      <td>0</td>\n",
              "      <td>0</td>\n",
              "      <td>0</td>\n",
              "      <td>0</td>\n",
              "      <td>1</td>\n",
              "    </tr>\n",
              "    <tr>\n",
              "      <th>29998</th>\n",
              "      <td>Brain Ball Game</td>\n",
              "      <td>myapp.lecz.android.tiltmazes</td>\n",
              "      <td>Brain &amp; Puzzle</td>\n",
              "      <td>A ball sits in a flat tray containing one or m...</td>\n",
              "      <td>3.0</td>\n",
              "      <td>2</td>\n",
              "      <td>0.00</td>\n",
              "      <td>{com.twistedmirror.alberiplus, com.freesoul.Mo...</td>\n",
              "      <td>3.0</td>\n",
              "      <td>2</td>\n",
              "      <td>...</td>\n",
              "      <td>0</td>\n",
              "      <td>0</td>\n",
              "      <td>0</td>\n",
              "      <td>0</td>\n",
              "      <td>0</td>\n",
              "      <td>0</td>\n",
              "      <td>0</td>\n",
              "      <td>0</td>\n",
              "      <td>0</td>\n",
              "      <td>1</td>\n",
              "    </tr>\n",
              "  </tbody>\n",
              "</table>\n",
              "<p>5 rows × 184 columns</p>\n",
              "</div>\n",
              "      <button class=\"colab-df-convert\" onclick=\"convertToInteractive('df-16901b82-0b62-4359-b933-b29d170a4a1f')\"\n",
              "              title=\"Convert this dataframe to an interactive table.\"\n",
              "              style=\"display:none;\">\n",
              "        \n",
              "  <svg xmlns=\"http://www.w3.org/2000/svg\" height=\"24px\"viewBox=\"0 0 24 24\"\n",
              "       width=\"24px\">\n",
              "    <path d=\"M0 0h24v24H0V0z\" fill=\"none\"/>\n",
              "    <path d=\"M18.56 5.44l.94 2.06.94-2.06 2.06-.94-2.06-.94-.94-2.06-.94 2.06-2.06.94zm-11 1L8.5 8.5l.94-2.06 2.06-.94-2.06-.94L8.5 2.5l-.94 2.06-2.06.94zm10 10l.94 2.06.94-2.06 2.06-.94-2.06-.94-.94-2.06-.94 2.06-2.06.94z\"/><path d=\"M17.41 7.96l-1.37-1.37c-.4-.4-.92-.59-1.43-.59-.52 0-1.04.2-1.43.59L10.3 9.45l-7.72 7.72c-.78.78-.78 2.05 0 2.83L4 21.41c.39.39.9.59 1.41.59.51 0 1.02-.2 1.41-.59l7.78-7.78 2.81-2.81c.8-.78.8-2.07 0-2.86zM5.41 20L4 18.59l7.72-7.72 1.47 1.35L5.41 20z\"/>\n",
              "  </svg>\n",
              "      </button>\n",
              "      \n",
              "  <style>\n",
              "    .colab-df-container {\n",
              "      display:flex;\n",
              "      flex-wrap:wrap;\n",
              "      gap: 12px;\n",
              "    }\n",
              "\n",
              "    .colab-df-convert {\n",
              "      background-color: #E8F0FE;\n",
              "      border: none;\n",
              "      border-radius: 50%;\n",
              "      cursor: pointer;\n",
              "      display: none;\n",
              "      fill: #1967D2;\n",
              "      height: 32px;\n",
              "      padding: 0 0 0 0;\n",
              "      width: 32px;\n",
              "    }\n",
              "\n",
              "    .colab-df-convert:hover {\n",
              "      background-color: #E2EBFA;\n",
              "      box-shadow: 0px 1px 2px rgba(60, 64, 67, 0.3), 0px 1px 3px 1px rgba(60, 64, 67, 0.15);\n",
              "      fill: #174EA6;\n",
              "    }\n",
              "\n",
              "    [theme=dark] .colab-df-convert {\n",
              "      background-color: #3B4455;\n",
              "      fill: #D2E3FC;\n",
              "    }\n",
              "\n",
              "    [theme=dark] .colab-df-convert:hover {\n",
              "      background-color: #434B5C;\n",
              "      box-shadow: 0px 1px 3px 1px rgba(0, 0, 0, 0.15);\n",
              "      filter: drop-shadow(0px 1px 2px rgba(0, 0, 0, 0.3));\n",
              "      fill: #FFFFFF;\n",
              "    }\n",
              "  </style>\n",
              "\n",
              "      <script>\n",
              "        const buttonEl =\n",
              "          document.querySelector('#df-16901b82-0b62-4359-b933-b29d170a4a1f button.colab-df-convert');\n",
              "        buttonEl.style.display =\n",
              "          google.colab.kernel.accessAllowed ? 'block' : 'none';\n",
              "\n",
              "        async function convertToInteractive(key) {\n",
              "          const element = document.querySelector('#df-16901b82-0b62-4359-b933-b29d170a4a1f');\n",
              "          const dataTable =\n",
              "            await google.colab.kernel.invokeFunction('convertToInteractive',\n",
              "                                                     [key], {});\n",
              "          if (!dataTable) return;\n",
              "\n",
              "          const docLinkHtml = 'Like what you see? Visit the ' +\n",
              "            '<a target=\"_blank\" href=https://colab.research.google.com/notebooks/data_table.ipynb>data table notebook</a>'\n",
              "            + ' to learn more about interactive tables.';\n",
              "          element.innerHTML = '';\n",
              "          dataTable['output_type'] = 'display_data';\n",
              "          await google.colab.output.renderOutput(dataTable, element);\n",
              "          const docLink = document.createElement('div');\n",
              "          docLink.innerHTML = docLinkHtml;\n",
              "          element.appendChild(docLink);\n",
              "        }\n",
              "      </script>\n",
              "    </div>\n",
              "  </div>\n",
              "  "
            ]
          },
          "metadata": {},
          "execution_count": 98
        }
      ],
      "source": [
        "# View bottom 5 rows of the data\n",
        "df.tail()"
      ]
    },
    {
      "cell_type": "code",
      "execution_count": null,
      "metadata": {
        "colab": {
          "base_uri": "https://localhost:8080/"
        },
        "id": "t1zS3tyWVh9j",
        "outputId": "58e25247-91b5-4b8f-af4b-b5f57843e0db"
      },
      "outputs": [
        {
          "output_type": "stream",
          "name": "stdout",
          "text": [
            "There are total 29999 rows and 184 columns.\n"
          ]
        }
      ],
      "source": [
        "# get the shape of the data\n",
        "shape = df.shape\n",
        "print(f\"There are total {shape[0]} rows and {shape[1]} columns.\")"
      ]
    },
    {
      "cell_type": "code",
      "execution_count": null,
      "metadata": {
        "colab": {
          "base_uri": "https://localhost:8080/"
        },
        "id": "PhQADAVcVmYS",
        "outputId": "c01dda9d-c1f5-437a-b9a3-b252b3f724ce"
      },
      "outputs": [
        {
          "output_type": "execute_result",
          "data": {
            "text/plain": [
              "['App',\n",
              " 'Package',\n",
              " 'Category',\n",
              " 'Description',\n",
              " 'Rating',\n",
              " 'Number of ratings',\n",
              " 'Price',\n",
              " 'Related apps',\n",
              " 'Dangerous permissions count',\n",
              " 'Safe permissions count',\n",
              " 'Default : Access DRM content. (S)',\n",
              " 'Default : Access Email provider data (S)',\n",
              " 'Default : Access all system downloads (S)',\n",
              " 'Default : Access download manager. (S)',\n",
              " 'Default : Advanced download manager functions. (S)']"
            ]
          },
          "metadata": {},
          "execution_count": 100
        }
      ],
      "source": [
        "# get first 15 column names\n",
        "columns = list(df.columns)\n",
        "columns[:15]"
      ]
    },
    {
      "cell_type": "code",
      "execution_count": null,
      "metadata": {
        "colab": {
          "base_uri": "https://localhost:8080/"
        },
        "id": "qQJQ-sp4VxJt",
        "outputId": "3c2abe5a-cd85-45ce-fdc0-7f729d0e5476"
      },
      "outputs": [
        {
          "output_type": "stream",
          "name": "stdout",
          "text": [
            "<class 'pandas.core.frame.DataFrame'>\n",
            "RangeIndex: 29999 entries, 0 to 29998\n",
            "Data columns (total 10 columns):\n",
            " #   Column                       Non-Null Count  Dtype  \n",
            "---  ------                       --------------  -----  \n",
            " 0   App                          29998 non-null  object \n",
            " 1   Package                      29999 non-null  object \n",
            " 2   Category                     29999 non-null  object \n",
            " 3   Description                  29996 non-null  object \n",
            " 4   Rating                       29999 non-null  float64\n",
            " 5   Number of ratings            29999 non-null  int64  \n",
            " 6   Price                        29999 non-null  float64\n",
            " 7   Related apps                 29244 non-null  object \n",
            " 8   Dangerous permissions count  29795 non-null  float64\n",
            " 9   Safe permissions count       29999 non-null  int64  \n",
            "dtypes: float64(3), int64(2), object(5)\n",
            "memory usage: 2.3+ MB\n"
          ]
        }
      ],
      "source": [
        "# get details of the data for first 10 columns\n",
        "df.loc[:,columns[:10]].info()"
      ]
    },
    {
      "cell_type": "code",
      "execution_count": null,
      "metadata": {
        "colab": {
          "base_uri": "https://localhost:8080/",
          "height": 206
        },
        "id": "RWs8lJBRV8Mq",
        "outputId": "324c2d8c-366c-43ee-df42-9360e22ecd26"
      },
      "outputs": [
        {
          "output_type": "execute_result",
          "data": {
            "text/plain": [
              "                               count         mean           std  min  25%  \\\n",
              "Rating                       29999.0     3.537215      1.424685  0.0  3.3   \n",
              "Number of ratings            29999.0  6852.608454  45868.991636  0.0  4.0   \n",
              "Price                        29999.0     0.625707      3.222620  0.0  0.0   \n",
              "Dangerous permissions count  29795.0     3.111160      3.052602  0.0  1.0   \n",
              "Safe permissions count       29999.0     1.353978      1.523491  0.0  0.0   \n",
              "\n",
              "                              50%    75%         max  \n",
              "Rating                        4.0    4.4        5.00  \n",
              "Number of ratings            46.0  716.0  1908590.00  \n",
              "Price                         0.0    0.0      158.07  \n",
              "Dangerous permissions count   2.0    4.0       30.00  \n",
              "Safe permissions count        1.0    2.0       16.00  "
            ],
            "text/html": [
              "\n",
              "  <div id=\"df-389ef284-3f38-4918-9161-624ff8346049\">\n",
              "    <div class=\"colab-df-container\">\n",
              "      <div>\n",
              "<style scoped>\n",
              "    .dataframe tbody tr th:only-of-type {\n",
              "        vertical-align: middle;\n",
              "    }\n",
              "\n",
              "    .dataframe tbody tr th {\n",
              "        vertical-align: top;\n",
              "    }\n",
              "\n",
              "    .dataframe thead th {\n",
              "        text-align: right;\n",
              "    }\n",
              "</style>\n",
              "<table border=\"1\" class=\"dataframe\">\n",
              "  <thead>\n",
              "    <tr style=\"text-align: right;\">\n",
              "      <th></th>\n",
              "      <th>count</th>\n",
              "      <th>mean</th>\n",
              "      <th>std</th>\n",
              "      <th>min</th>\n",
              "      <th>25%</th>\n",
              "      <th>50%</th>\n",
              "      <th>75%</th>\n",
              "      <th>max</th>\n",
              "    </tr>\n",
              "  </thead>\n",
              "  <tbody>\n",
              "    <tr>\n",
              "      <th>Rating</th>\n",
              "      <td>29999.0</td>\n",
              "      <td>3.537215</td>\n",
              "      <td>1.424685</td>\n",
              "      <td>0.0</td>\n",
              "      <td>3.3</td>\n",
              "      <td>4.0</td>\n",
              "      <td>4.4</td>\n",
              "      <td>5.00</td>\n",
              "    </tr>\n",
              "    <tr>\n",
              "      <th>Number of ratings</th>\n",
              "      <td>29999.0</td>\n",
              "      <td>6852.608454</td>\n",
              "      <td>45868.991636</td>\n",
              "      <td>0.0</td>\n",
              "      <td>4.0</td>\n",
              "      <td>46.0</td>\n",
              "      <td>716.0</td>\n",
              "      <td>1908590.00</td>\n",
              "    </tr>\n",
              "    <tr>\n",
              "      <th>Price</th>\n",
              "      <td>29999.0</td>\n",
              "      <td>0.625707</td>\n",
              "      <td>3.222620</td>\n",
              "      <td>0.0</td>\n",
              "      <td>0.0</td>\n",
              "      <td>0.0</td>\n",
              "      <td>0.0</td>\n",
              "      <td>158.07</td>\n",
              "    </tr>\n",
              "    <tr>\n",
              "      <th>Dangerous permissions count</th>\n",
              "      <td>29795.0</td>\n",
              "      <td>3.111160</td>\n",
              "      <td>3.052602</td>\n",
              "      <td>0.0</td>\n",
              "      <td>1.0</td>\n",
              "      <td>2.0</td>\n",
              "      <td>4.0</td>\n",
              "      <td>30.00</td>\n",
              "    </tr>\n",
              "    <tr>\n",
              "      <th>Safe permissions count</th>\n",
              "      <td>29999.0</td>\n",
              "      <td>1.353978</td>\n",
              "      <td>1.523491</td>\n",
              "      <td>0.0</td>\n",
              "      <td>0.0</td>\n",
              "      <td>1.0</td>\n",
              "      <td>2.0</td>\n",
              "      <td>16.00</td>\n",
              "    </tr>\n",
              "  </tbody>\n",
              "</table>\n",
              "</div>\n",
              "      <button class=\"colab-df-convert\" onclick=\"convertToInteractive('df-389ef284-3f38-4918-9161-624ff8346049')\"\n",
              "              title=\"Convert this dataframe to an interactive table.\"\n",
              "              style=\"display:none;\">\n",
              "        \n",
              "  <svg xmlns=\"http://www.w3.org/2000/svg\" height=\"24px\"viewBox=\"0 0 24 24\"\n",
              "       width=\"24px\">\n",
              "    <path d=\"M0 0h24v24H0V0z\" fill=\"none\"/>\n",
              "    <path d=\"M18.56 5.44l.94 2.06.94-2.06 2.06-.94-2.06-.94-.94-2.06-.94 2.06-2.06.94zm-11 1L8.5 8.5l.94-2.06 2.06-.94-2.06-.94L8.5 2.5l-.94 2.06-2.06.94zm10 10l.94 2.06.94-2.06 2.06-.94-2.06-.94-.94-2.06-.94 2.06-2.06.94z\"/><path d=\"M17.41 7.96l-1.37-1.37c-.4-.4-.92-.59-1.43-.59-.52 0-1.04.2-1.43.59L10.3 9.45l-7.72 7.72c-.78.78-.78 2.05 0 2.83L4 21.41c.39.39.9.59 1.41.59.51 0 1.02-.2 1.41-.59l7.78-7.78 2.81-2.81c.8-.78.8-2.07 0-2.86zM5.41 20L4 18.59l7.72-7.72 1.47 1.35L5.41 20z\"/>\n",
              "  </svg>\n",
              "      </button>\n",
              "      \n",
              "  <style>\n",
              "    .colab-df-container {\n",
              "      display:flex;\n",
              "      flex-wrap:wrap;\n",
              "      gap: 12px;\n",
              "    }\n",
              "\n",
              "    .colab-df-convert {\n",
              "      background-color: #E8F0FE;\n",
              "      border: none;\n",
              "      border-radius: 50%;\n",
              "      cursor: pointer;\n",
              "      display: none;\n",
              "      fill: #1967D2;\n",
              "      height: 32px;\n",
              "      padding: 0 0 0 0;\n",
              "      width: 32px;\n",
              "    }\n",
              "\n",
              "    .colab-df-convert:hover {\n",
              "      background-color: #E2EBFA;\n",
              "      box-shadow: 0px 1px 2px rgba(60, 64, 67, 0.3), 0px 1px 3px 1px rgba(60, 64, 67, 0.15);\n",
              "      fill: #174EA6;\n",
              "    }\n",
              "\n",
              "    [theme=dark] .colab-df-convert {\n",
              "      background-color: #3B4455;\n",
              "      fill: #D2E3FC;\n",
              "    }\n",
              "\n",
              "    [theme=dark] .colab-df-convert:hover {\n",
              "      background-color: #434B5C;\n",
              "      box-shadow: 0px 1px 3px 1px rgba(0, 0, 0, 0.15);\n",
              "      filter: drop-shadow(0px 1px 2px rgba(0, 0, 0, 0.3));\n",
              "      fill: #FFFFFF;\n",
              "    }\n",
              "  </style>\n",
              "\n",
              "      <script>\n",
              "        const buttonEl =\n",
              "          document.querySelector('#df-389ef284-3f38-4918-9161-624ff8346049 button.colab-df-convert');\n",
              "        buttonEl.style.display =\n",
              "          google.colab.kernel.accessAllowed ? 'block' : 'none';\n",
              "\n",
              "        async function convertToInteractive(key) {\n",
              "          const element = document.querySelector('#df-389ef284-3f38-4918-9161-624ff8346049');\n",
              "          const dataTable =\n",
              "            await google.colab.kernel.invokeFunction('convertToInteractive',\n",
              "                                                     [key], {});\n",
              "          if (!dataTable) return;\n",
              "\n",
              "          const docLinkHtml = 'Like what you see? Visit the ' +\n",
              "            '<a target=\"_blank\" href=https://colab.research.google.com/notebooks/data_table.ipynb>data table notebook</a>'\n",
              "            + ' to learn more about interactive tables.';\n",
              "          element.innerHTML = '';\n",
              "          dataTable['output_type'] = 'display_data';\n",
              "          await google.colab.output.renderOutput(dataTable, element);\n",
              "          const docLink = document.createElement('div');\n",
              "          docLink.innerHTML = docLinkHtml;\n",
              "          element.appendChild(docLink);\n",
              "        }\n",
              "      </script>\n",
              "    </div>\n",
              "  </div>\n",
              "  "
            ]
          },
          "metadata": {},
          "execution_count": 102
        }
      ],
      "source": [
        "# get the description of the numerical data for first 10 columns\n",
        "df.loc[:,columns[:10]].describe().T"
      ]
    },
    {
      "cell_type": "code",
      "execution_count": null,
      "metadata": {
        "colab": {
          "base_uri": "https://localhost:8080/",
          "height": 206
        },
        "id": "VEOq_rBrWk5J",
        "outputId": "c9310f4b-c1be-4a08-b974-45783b1a5f46"
      },
      "outputs": [
        {
          "output_type": "execute_result",
          "data": {
            "text/plain": [
              "              count unique                                                top  \\\n",
              "App           29998  22823                                        Tic Tac Toe   \n",
              "Package       29999  23485                                 com.shazam.android   \n",
              "Category      29999     30                                      Entertainment   \n",
              "Description   29996  23552  Phrasebook and Translator contains all the ess...   \n",
              "Related apps  29244  23868                             {com.openkava.spinpic}   \n",
              "\n",
              "              freq  \n",
              "App             47  \n",
              "Package         10  \n",
              "Category      2827  \n",
              "Description     40  \n",
              "Related apps    38  "
            ],
            "text/html": [
              "\n",
              "  <div id=\"df-c4cd9abf-30e0-4863-8bc2-92f04420f802\">\n",
              "    <div class=\"colab-df-container\">\n",
              "      <div>\n",
              "<style scoped>\n",
              "    .dataframe tbody tr th:only-of-type {\n",
              "        vertical-align: middle;\n",
              "    }\n",
              "\n",
              "    .dataframe tbody tr th {\n",
              "        vertical-align: top;\n",
              "    }\n",
              "\n",
              "    .dataframe thead th {\n",
              "        text-align: right;\n",
              "    }\n",
              "</style>\n",
              "<table border=\"1\" class=\"dataframe\">\n",
              "  <thead>\n",
              "    <tr style=\"text-align: right;\">\n",
              "      <th></th>\n",
              "      <th>count</th>\n",
              "      <th>unique</th>\n",
              "      <th>top</th>\n",
              "      <th>freq</th>\n",
              "    </tr>\n",
              "  </thead>\n",
              "  <tbody>\n",
              "    <tr>\n",
              "      <th>App</th>\n",
              "      <td>29998</td>\n",
              "      <td>22823</td>\n",
              "      <td>Tic Tac Toe</td>\n",
              "      <td>47</td>\n",
              "    </tr>\n",
              "    <tr>\n",
              "      <th>Package</th>\n",
              "      <td>29999</td>\n",
              "      <td>23485</td>\n",
              "      <td>com.shazam.android</td>\n",
              "      <td>10</td>\n",
              "    </tr>\n",
              "    <tr>\n",
              "      <th>Category</th>\n",
              "      <td>29999</td>\n",
              "      <td>30</td>\n",
              "      <td>Entertainment</td>\n",
              "      <td>2827</td>\n",
              "    </tr>\n",
              "    <tr>\n",
              "      <th>Description</th>\n",
              "      <td>29996</td>\n",
              "      <td>23552</td>\n",
              "      <td>Phrasebook and Translator contains all the ess...</td>\n",
              "      <td>40</td>\n",
              "    </tr>\n",
              "    <tr>\n",
              "      <th>Related apps</th>\n",
              "      <td>29244</td>\n",
              "      <td>23868</td>\n",
              "      <td>{com.openkava.spinpic}</td>\n",
              "      <td>38</td>\n",
              "    </tr>\n",
              "  </tbody>\n",
              "</table>\n",
              "</div>\n",
              "      <button class=\"colab-df-convert\" onclick=\"convertToInteractive('df-c4cd9abf-30e0-4863-8bc2-92f04420f802')\"\n",
              "              title=\"Convert this dataframe to an interactive table.\"\n",
              "              style=\"display:none;\">\n",
              "        \n",
              "  <svg xmlns=\"http://www.w3.org/2000/svg\" height=\"24px\"viewBox=\"0 0 24 24\"\n",
              "       width=\"24px\">\n",
              "    <path d=\"M0 0h24v24H0V0z\" fill=\"none\"/>\n",
              "    <path d=\"M18.56 5.44l.94 2.06.94-2.06 2.06-.94-2.06-.94-.94-2.06-.94 2.06-2.06.94zm-11 1L8.5 8.5l.94-2.06 2.06-.94-2.06-.94L8.5 2.5l-.94 2.06-2.06.94zm10 10l.94 2.06.94-2.06 2.06-.94-2.06-.94-.94-2.06-.94 2.06-2.06.94z\"/><path d=\"M17.41 7.96l-1.37-1.37c-.4-.4-.92-.59-1.43-.59-.52 0-1.04.2-1.43.59L10.3 9.45l-7.72 7.72c-.78.78-.78 2.05 0 2.83L4 21.41c.39.39.9.59 1.41.59.51 0 1.02-.2 1.41-.59l7.78-7.78 2.81-2.81c.8-.78.8-2.07 0-2.86zM5.41 20L4 18.59l7.72-7.72 1.47 1.35L5.41 20z\"/>\n",
              "  </svg>\n",
              "      </button>\n",
              "      \n",
              "  <style>\n",
              "    .colab-df-container {\n",
              "      display:flex;\n",
              "      flex-wrap:wrap;\n",
              "      gap: 12px;\n",
              "    }\n",
              "\n",
              "    .colab-df-convert {\n",
              "      background-color: #E8F0FE;\n",
              "      border: none;\n",
              "      border-radius: 50%;\n",
              "      cursor: pointer;\n",
              "      display: none;\n",
              "      fill: #1967D2;\n",
              "      height: 32px;\n",
              "      padding: 0 0 0 0;\n",
              "      width: 32px;\n",
              "    }\n",
              "\n",
              "    .colab-df-convert:hover {\n",
              "      background-color: #E2EBFA;\n",
              "      box-shadow: 0px 1px 2px rgba(60, 64, 67, 0.3), 0px 1px 3px 1px rgba(60, 64, 67, 0.15);\n",
              "      fill: #174EA6;\n",
              "    }\n",
              "\n",
              "    [theme=dark] .colab-df-convert {\n",
              "      background-color: #3B4455;\n",
              "      fill: #D2E3FC;\n",
              "    }\n",
              "\n",
              "    [theme=dark] .colab-df-convert:hover {\n",
              "      background-color: #434B5C;\n",
              "      box-shadow: 0px 1px 3px 1px rgba(0, 0, 0, 0.15);\n",
              "      filter: drop-shadow(0px 1px 2px rgba(0, 0, 0, 0.3));\n",
              "      fill: #FFFFFF;\n",
              "    }\n",
              "  </style>\n",
              "\n",
              "      <script>\n",
              "        const buttonEl =\n",
              "          document.querySelector('#df-c4cd9abf-30e0-4863-8bc2-92f04420f802 button.colab-df-convert');\n",
              "        buttonEl.style.display =\n",
              "          google.colab.kernel.accessAllowed ? 'block' : 'none';\n",
              "\n",
              "        async function convertToInteractive(key) {\n",
              "          const element = document.querySelector('#df-c4cd9abf-30e0-4863-8bc2-92f04420f802');\n",
              "          const dataTable =\n",
              "            await google.colab.kernel.invokeFunction('convertToInteractive',\n",
              "                                                     [key], {});\n",
              "          if (!dataTable) return;\n",
              "\n",
              "          const docLinkHtml = 'Like what you see? Visit the ' +\n",
              "            '<a target=\"_blank\" href=https://colab.research.google.com/notebooks/data_table.ipynb>data table notebook</a>'\n",
              "            + ' to learn more about interactive tables.';\n",
              "          element.innerHTML = '';\n",
              "          dataTable['output_type'] = 'display_data';\n",
              "          await google.colab.output.renderOutput(dataTable, element);\n",
              "          const docLink = document.createElement('div');\n",
              "          docLink.innerHTML = docLinkHtml;\n",
              "          element.appendChild(docLink);\n",
              "        }\n",
              "      </script>\n",
              "    </div>\n",
              "  </div>\n",
              "  "
            ]
          },
          "metadata": {},
          "execution_count": 103
        }
      ],
      "source": [
        "# get the description of the categorical data for first 10 columns\n",
        "df.loc[:,columns[:10]].describe(include=\"object\").T"
      ]
    },
    {
      "cell_type": "markdown",
      "metadata": {
        "id": "xgJWZW50W2M3"
      },
      "source": [
        "# Preprocessing the dataset"
      ]
    },
    {
      "cell_type": "markdown",
      "metadata": {
        "id": "7zkM4SUwZYTg"
      },
      "source": [
        "## Duplicate values"
      ]
    },
    {
      "cell_type": "markdown",
      "metadata": {
        "id": "TpSorn5UrdDK"
      },
      "source": [
        "* **The package column is unique for every App. So, we can check the duplicate rows by using Package.**"
      ]
    },
    {
      "cell_type": "code",
      "execution_count": null,
      "metadata": {
        "colab": {
          "base_uri": "https://localhost:8080/"
        },
        "id": "i4yuRIILZalq",
        "outputId": "8a96cd22-b97d-45df-8591-404e9e4d9f33"
      },
      "outputs": [
        {
          "output_type": "stream",
          "name": "stdout",
          "text": [
            "The number of duplicate values in the data is 6514\n"
          ]
        }
      ],
      "source": [
        "print(f\"The number of duplicate values in the data is {len(df[df.duplicated(subset='Package')])}\")"
      ]
    },
    {
      "cell_type": "markdown",
      "metadata": {
        "id": "GfsJpWXJZzwj"
      },
      "source": [
        "* **Since, there are total 6514 rows which have duplicate entry, we will drop them.**"
      ]
    },
    {
      "cell_type": "code",
      "execution_count": null,
      "metadata": {
        "id": "dXKK9ilsaJ29"
      },
      "outputs": [],
      "source": [
        "df.drop_duplicates(subset='Package', keep=False, inplace=True)"
      ]
    },
    {
      "cell_type": "code",
      "execution_count": null,
      "metadata": {
        "colab": {
          "base_uri": "https://localhost:8080/"
        },
        "id": "8N7JLcTbaOWQ",
        "outputId": "366b36f7-af5b-44e1-f3d0-8b9443f832dd"
      },
      "outputs": [
        {
          "output_type": "stream",
          "name": "stdout",
          "text": [
            "There are total 19273 rows.\n"
          ]
        }
      ],
      "source": [
        "# get total rows\n",
        "shape = df.shape\n",
        "print(f\"There are total {shape[0]} rows.\")"
      ]
    },
    {
      "cell_type": "code",
      "execution_count": null,
      "metadata": {
        "colab": {
          "base_uri": "https://localhost:8080/"
        },
        "id": "Zr2vEL1AaumC",
        "outputId": "24947bcc-cd28-4b1f-a42d-a475c2d1b2fc"
      },
      "outputs": [
        {
          "output_type": "stream",
          "name": "stdout",
          "text": [
            "The number of duplicate values in the data is 0\n"
          ]
        }
      ],
      "source": [
        "print(f\"The number of duplicate values in the data is {len(df[df.duplicated(subset='Package')])}\")"
      ]
    },
    {
      "cell_type": "markdown",
      "metadata": {
        "id": "gcMVc4G_abSj"
      },
      "source": [
        "## Missing values"
      ]
    },
    {
      "cell_type": "code",
      "execution_count": null,
      "metadata": {
        "colab": {
          "base_uri": "https://localhost:8080/",
          "height": 175
        },
        "id": "P_mHkusuaZRV",
        "outputId": "7d4fc5a5-c965-423b-89a6-0d3b76d99476"
      },
      "outputs": [
        {
          "output_type": "execute_result",
          "data": {
            "text/plain": [
              "                             total_missing_values  missing_percentage\n",
              "App                                           1.0                0.00\n",
              "Description                                   3.0                0.00\n",
              "Related apps                                610.0                0.03\n",
              "Dangerous permissions count                 169.0                0.01"
            ],
            "text/html": [
              "\n",
              "  <div id=\"df-2eeeef94-4daf-41db-9d73-4845364e3516\">\n",
              "    <div class=\"colab-df-container\">\n",
              "      <div>\n",
              "<style scoped>\n",
              "    .dataframe tbody tr th:only-of-type {\n",
              "        vertical-align: middle;\n",
              "    }\n",
              "\n",
              "    .dataframe tbody tr th {\n",
              "        vertical-align: top;\n",
              "    }\n",
              "\n",
              "    .dataframe thead th {\n",
              "        text-align: right;\n",
              "    }\n",
              "</style>\n",
              "<table border=\"1\" class=\"dataframe\">\n",
              "  <thead>\n",
              "    <tr style=\"text-align: right;\">\n",
              "      <th></th>\n",
              "      <th>total_missing_values</th>\n",
              "      <th>missing_percentage</th>\n",
              "    </tr>\n",
              "  </thead>\n",
              "  <tbody>\n",
              "    <tr>\n",
              "      <th>App</th>\n",
              "      <td>1.0</td>\n",
              "      <td>0.00</td>\n",
              "    </tr>\n",
              "    <tr>\n",
              "      <th>Description</th>\n",
              "      <td>3.0</td>\n",
              "      <td>0.00</td>\n",
              "    </tr>\n",
              "    <tr>\n",
              "      <th>Related apps</th>\n",
              "      <td>610.0</td>\n",
              "      <td>0.03</td>\n",
              "    </tr>\n",
              "    <tr>\n",
              "      <th>Dangerous permissions count</th>\n",
              "      <td>169.0</td>\n",
              "      <td>0.01</td>\n",
              "    </tr>\n",
              "  </tbody>\n",
              "</table>\n",
              "</div>\n",
              "      <button class=\"colab-df-convert\" onclick=\"convertToInteractive('df-2eeeef94-4daf-41db-9d73-4845364e3516')\"\n",
              "              title=\"Convert this dataframe to an interactive table.\"\n",
              "              style=\"display:none;\">\n",
              "        \n",
              "  <svg xmlns=\"http://www.w3.org/2000/svg\" height=\"24px\"viewBox=\"0 0 24 24\"\n",
              "       width=\"24px\">\n",
              "    <path d=\"M0 0h24v24H0V0z\" fill=\"none\"/>\n",
              "    <path d=\"M18.56 5.44l.94 2.06.94-2.06 2.06-.94-2.06-.94-.94-2.06-.94 2.06-2.06.94zm-11 1L8.5 8.5l.94-2.06 2.06-.94-2.06-.94L8.5 2.5l-.94 2.06-2.06.94zm10 10l.94 2.06.94-2.06 2.06-.94-2.06-.94-.94-2.06-.94 2.06-2.06.94z\"/><path d=\"M17.41 7.96l-1.37-1.37c-.4-.4-.92-.59-1.43-.59-.52 0-1.04.2-1.43.59L10.3 9.45l-7.72 7.72c-.78.78-.78 2.05 0 2.83L4 21.41c.39.39.9.59 1.41.59.51 0 1.02-.2 1.41-.59l7.78-7.78 2.81-2.81c.8-.78.8-2.07 0-2.86zM5.41 20L4 18.59l7.72-7.72 1.47 1.35L5.41 20z\"/>\n",
              "  </svg>\n",
              "      </button>\n",
              "      \n",
              "  <style>\n",
              "    .colab-df-container {\n",
              "      display:flex;\n",
              "      flex-wrap:wrap;\n",
              "      gap: 12px;\n",
              "    }\n",
              "\n",
              "    .colab-df-convert {\n",
              "      background-color: #E8F0FE;\n",
              "      border: none;\n",
              "      border-radius: 50%;\n",
              "      cursor: pointer;\n",
              "      display: none;\n",
              "      fill: #1967D2;\n",
              "      height: 32px;\n",
              "      padding: 0 0 0 0;\n",
              "      width: 32px;\n",
              "    }\n",
              "\n",
              "    .colab-df-convert:hover {\n",
              "      background-color: #E2EBFA;\n",
              "      box-shadow: 0px 1px 2px rgba(60, 64, 67, 0.3), 0px 1px 3px 1px rgba(60, 64, 67, 0.15);\n",
              "      fill: #174EA6;\n",
              "    }\n",
              "\n",
              "    [theme=dark] .colab-df-convert {\n",
              "      background-color: #3B4455;\n",
              "      fill: #D2E3FC;\n",
              "    }\n",
              "\n",
              "    [theme=dark] .colab-df-convert:hover {\n",
              "      background-color: #434B5C;\n",
              "      box-shadow: 0px 1px 3px 1px rgba(0, 0, 0, 0.15);\n",
              "      filter: drop-shadow(0px 1px 2px rgba(0, 0, 0, 0.3));\n",
              "      fill: #FFFFFF;\n",
              "    }\n",
              "  </style>\n",
              "\n",
              "      <script>\n",
              "        const buttonEl =\n",
              "          document.querySelector('#df-2eeeef94-4daf-41db-9d73-4845364e3516 button.colab-df-convert');\n",
              "        buttonEl.style.display =\n",
              "          google.colab.kernel.accessAllowed ? 'block' : 'none';\n",
              "\n",
              "        async function convertToInteractive(key) {\n",
              "          const element = document.querySelector('#df-2eeeef94-4daf-41db-9d73-4845364e3516');\n",
              "          const dataTable =\n",
              "            await google.colab.kernel.invokeFunction('convertToInteractive',\n",
              "                                                     [key], {});\n",
              "          if (!dataTable) return;\n",
              "\n",
              "          const docLinkHtml = 'Like what you see? Visit the ' +\n",
              "            '<a target=\"_blank\" href=https://colab.research.google.com/notebooks/data_table.ipynb>data table notebook</a>'\n",
              "            + ' to learn more about interactive tables.';\n",
              "          element.innerHTML = '';\n",
              "          dataTable['output_type'] = 'display_data';\n",
              "          await google.colab.output.renderOutput(dataTable, element);\n",
              "          const docLink = document.createElement('div');\n",
              "          docLink.innerHTML = docLinkHtml;\n",
              "          element.appendChild(docLink);\n",
              "        }\n",
              "      </script>\n",
              "    </div>\n",
              "  </div>\n",
              "  "
            ]
          },
          "metadata": {},
          "execution_count": 108
        }
      ],
      "source": [
        "#check for count of missing values\n",
        "pd.DataFrame(get_missing_count(df)).T"
      ]
    },
    {
      "cell_type": "markdown",
      "metadata": {
        "id": "FmqYUC54s_hQ"
      },
      "source": [
        "## Handling Missing Data"
      ]
    },
    {
      "cell_type": "markdown",
      "metadata": {
        "id": "QTAwioSItE_V"
      },
      "source": [
        "* **\"App\" and \"Description\" are unique for each row. So, we can remove these columns.**\n",
        "* **We will drop \"Related apps\" from the dataset.**\n"
      ]
    },
    {
      "cell_type": "code",
      "execution_count": null,
      "metadata": {
        "id": "auO869zYwCL_"
      },
      "outputs": [],
      "source": [
        "df.drop([\"App\", \"Description\",\"Related apps\"], axis=1, inplace=True)"
      ]
    },
    {
      "cell_type": "code",
      "execution_count": null,
      "metadata": {
        "colab": {
          "base_uri": "https://localhost:8080/"
        },
        "id": "0wCXShezwYRi",
        "outputId": "49129c4e-2d14-4bda-fe26-7ab8fb82e218"
      },
      "outputs": [
        {
          "output_type": "execute_result",
          "data": {
            "text/plain": [
              "['Package',\n",
              " 'Category',\n",
              " 'Rating',\n",
              " 'Number of ratings',\n",
              " 'Price',\n",
              " 'Dangerous permissions count',\n",
              " 'Safe permissions count',\n",
              " 'Default : Access DRM content. (S)',\n",
              " 'Default : Access Email provider data (S)',\n",
              " 'Default : Access all system downloads (S)',\n",
              " 'Default : Access download manager. (S)',\n",
              " 'Default : Advanced download manager functions. (S)',\n",
              " 'Default : Audio File Access (S)',\n",
              " 'Default : Install DRM content. (S)',\n",
              " 'Default : Modify Google service configuration (S)']"
            ]
          },
          "metadata": {},
          "execution_count": 110
        }
      ],
      "source": [
        "columns = list(df.columns)\n",
        "columns[:15]"
      ]
    },
    {
      "cell_type": "markdown",
      "metadata": {
        "id": "vfIW1qjewcw3"
      },
      "source": [
        "* **\"Dangerous permissions count\" has 1% missing values. So, we can drop the rows.**"
      ]
    },
    {
      "cell_type": "code",
      "execution_count": null,
      "metadata": {
        "id": "VssChomtwjSS"
      },
      "outputs": [],
      "source": [
        "df.dropna(inplace=True)"
      ]
    },
    {
      "cell_type": "code",
      "execution_count": null,
      "metadata": {
        "colab": {
          "base_uri": "https://localhost:8080/"
        },
        "id": "tpDhZoDcyUbF",
        "outputId": "d9784e22-148f-4efe-d0de-8e57a5d465e8"
      },
      "outputs": [
        {
          "output_type": "stream",
          "name": "stdout",
          "text": [
            "There are total 19104 rows.\n"
          ]
        }
      ],
      "source": [
        "# get total rows\n",
        "shape = df.shape\n",
        "print(f\"There are total {shape[0]} rows.\")"
      ]
    },
    {
      "cell_type": "markdown",
      "metadata": {
        "id": "M6avztE16roL"
      },
      "source": [
        "# Exploratory Data Analysis Of The Data Set"
      ]
    },
    {
      "cell_type": "code",
      "execution_count": null,
      "metadata": {
        "colab": {
          "base_uri": "https://localhost:8080/"
        },
        "id": "Ms67xt3I6uXF",
        "outputId": "8a89124b-c161-4a12-f4c9-eb5ee23168c3"
      },
      "outputs": [
        {
          "output_type": "execute_result",
          "data": {
            "text/plain": [
              "['Package',\n",
              " 'Category',\n",
              " 'Rating',\n",
              " 'Number of ratings',\n",
              " 'Price',\n",
              " 'Dangerous permissions count',\n",
              " 'Safe permissions count',\n",
              " 'Default : Access DRM content. (S)',\n",
              " 'Default : Access Email provider data (S)',\n",
              " 'Default : Access all system downloads (S)',\n",
              " 'Default : Access download manager. (S)',\n",
              " 'Default : Advanced download manager functions. (S)',\n",
              " 'Default : Audio File Access (S)',\n",
              " 'Default : Install DRM content. (S)',\n",
              " 'Default : Modify Google service configuration (S)']"
            ]
          },
          "metadata": {},
          "execution_count": 113
        }
      ],
      "source": [
        "columns[:15]"
      ]
    },
    {
      "cell_type": "markdown",
      "metadata": {
        "id": "aJx09YBj67ra"
      },
      "source": [
        "## Package"
      ]
    },
    {
      "cell_type": "markdown",
      "metadata": {
        "id": "QKMV3Kn869dW"
      },
      "source": [
        "* **From domain knowledge, we know that the \"Package\" column is unique for all apps. So, we can remove this column.**"
      ]
    },
    {
      "cell_type": "code",
      "execution_count": null,
      "metadata": {
        "id": "bGGYEicS7ebh"
      },
      "outputs": [],
      "source": [
        "df.drop([\"Package\"], axis=1, inplace=True)"
      ]
    },
    {
      "cell_type": "code",
      "execution_count": null,
      "metadata": {
        "colab": {
          "base_uri": "https://localhost:8080/"
        },
        "id": "dibN7WPk7mf8",
        "outputId": "2161eb18-bf9d-4e3e-c03e-8fe032833269"
      },
      "outputs": [
        {
          "output_type": "execute_result",
          "data": {
            "text/plain": [
              "Index(['Category', 'Rating', 'Number of ratings', 'Price',\n",
              "       'Dangerous permissions count', 'Safe permissions count',\n",
              "       'Default : Access DRM content. (S)',\n",
              "       'Default : Access Email provider data (S)',\n",
              "       'Default : Access all system downloads (S)',\n",
              "       'Default : Access download manager. (S)',\n",
              "       ...\n",
              "       'Your personal information : read calendar events (D)',\n",
              "       'Your personal information : read contact data (D)',\n",
              "       'Your personal information : read sensitive log data (D)',\n",
              "       'Your personal information : read user defined dictionary (D)',\n",
              "       'Your personal information : retrieve system internal state (S)',\n",
              "       'Your personal information : set alarm in alarm clock (S)',\n",
              "       'Your personal information : write Browser's history and bookmarks (D)',\n",
              "       'Your personal information : write contact data (D)',\n",
              "       'Your personal information : write to user defined dictionary (S)',\n",
              "       'Class'],\n",
              "      dtype='object', length=180)"
            ]
          },
          "metadata": {},
          "execution_count": 115
        }
      ],
      "source": [
        "df.columns"
      ]
    },
    {
      "cell_type": "markdown",
      "metadata": {
        "id": "5P1t15HvDkY_"
      },
      "source": [
        "## Rating"
      ]
    },
    {
      "cell_type": "code",
      "execution_count": null,
      "metadata": {
        "colab": {
          "base_uri": "https://localhost:8080/"
        },
        "id": "bnSq7cepDmRF",
        "outputId": "0b7ea27d-868d-4221-8459-5ab21b40cf9b"
      },
      "outputs": [
        {
          "output_type": "execute_result",
          "data": {
            "text/plain": [
              "count    19104.000000\n",
              "mean         3.372519\n",
              "std          1.545383\n",
              "min          0.000000\n",
              "25%          3.000000\n",
              "50%          3.900000\n",
              "75%          4.400000\n",
              "max          5.000000\n",
              "Name: Rating, dtype: float64"
            ]
          },
          "metadata": {},
          "execution_count": 116
        }
      ],
      "source": [
        "df['Rating'].describe()"
      ]
    },
    {
      "cell_type": "code",
      "execution_count": null,
      "metadata": {
        "id": "7BBeeIIkHQMm"
      },
      "outputs": [],
      "source": [
        "\n",
        "new_df = df.groupby('Rating').count()\n",
        "#sns.countplot(x='Rating',data=new_df, palette='',hue='sex')\n",
        "#new_df"
      ]
    },
    {
      "cell_type": "code",
      "execution_count": null,
      "metadata": {
        "colab": {
          "base_uri": "https://localhost:8080/",
          "height": 515
        },
        "id": "E7SQLLBNoJqS",
        "outputId": "6802048f-7dfa-413d-ec55-aa66763ecdcd"
      },
      "outputs": [
        {
          "output_type": "execute_result",
          "data": {
            "text/plain": [
              "<matplotlib.axes._subplots.AxesSubplot at 0x7f9c2ee34e50>"
            ]
          },
          "metadata": {},
          "execution_count": 118
        },
        {
          "output_type": "display_data",
          "data": {
            "text/plain": [
              "<Figure size 1080x576 with 1 Axes>"
            ],
            "image/png": "[encoded data removed]"
          },
          "metadata": {
            "needs_background": "light"
          }
        }
      ],
      "source": [
        "fig,ax=plt.subplots(figsize=(15,8))\n",
        "sns.histplot(binwidth=1, x=\"Rating\", hue=\"Class\", data=df, stat=\"count\", multiple=\"stack\")"
      ]
    },
    {
      "cell_type": "markdown",
      "metadata": {
        "id": "VjmOnitoo91l"
      },
      "source": [
        "* Plotting 'Rating' and 'Class', we see that \n",
        "  *  Between 0 to 3 a small potion of app have malware.\n",
        "  *  From 3 to 5 the chance of finding a malware app is high"
      ]
    },
    {
      "cell_type": "markdown",
      "metadata": {
        "id": "TtC2KROYqHtj"
      },
      "source": [
        "## Number of ratings"
      ]
    },
    {
      "cell_type": "code",
      "execution_count": null,
      "metadata": {
        "colab": {
          "base_uri": "https://localhost:8080/",
          "height": 404
        },
        "id": "xR5DHXCuqJWu",
        "outputId": "4e506efc-9d27-4003-a23f-e8a9204bee10"
      },
      "outputs": [
        {
          "output_type": "display_data",
          "data": {
            "text/plain": [
              "<Figure size 648x432 with 1 Axes>"
            ],
            "image/png": "[encoded data removed]"
          },
          "metadata": {
            "needs_background": "light"
          }
        }
      ],
      "source": [
        "df['Number of ratings']\n",
        "regression_line_plot(df,'Number of ratings','Class')"
      ]
    },
    {
      "cell_type": "markdown",
      "source": [
        "## Category"
      ],
      "metadata": {
        "id": "X16IDJx1dZPT"
      }
    },
    {
      "cell_type": "code",
      "source": [
        "df['Category'].describe()"
      ],
      "metadata": {
        "colab": {
          "base_uri": "https://localhost:8080/"
        },
        "id": "ChMfRlk-dY9R",
        "outputId": "b903c26d-8cda-4c35-c2f2-35c5efead5ac"
      },
      "execution_count": null,
      "outputs": [
        {
          "output_type": "execute_result",
          "data": {
            "text/plain": [
              "count             19104\n",
              "unique               30\n",
              "top       Entertainment\n",
              "freq               1886\n",
              "Name: Category, dtype: object"
            ]
          },
          "metadata": {},
          "execution_count": 120
        }
      ]
    },
    {
      "cell_type": "code",
      "source": [
        "fig,ax=plt.subplots(figsize=(15,8))\n",
        "sns.catplot(x=\"Category\", kind=\"count\", palette=\"ch:.25\", data=df)"
      ],
      "metadata": {
        "colab": {
          "base_uri": "https://localhost:8080/",
          "height": 857
        },
        "id": "msxImJBddgsj",
        "outputId": "4cbe0540-6ff1-40e6-c7da-3c0f2dc7de11"
      },
      "execution_count": null,
      "outputs": [
        {
          "output_type": "execute_result",
          "data": {
            "text/plain": [
              "<seaborn.axisgrid.FacetGrid at 0x7f9c09cd8c10>"
            ]
          },
          "metadata": {},
          "execution_count": 121
        },
        {
          "output_type": "display_data",
          "data": {
            "text/plain": [
              "<Figure size 1080x576 with 1 Axes>"
            ],
            "image/png": "[encoded data removed]"
          },
          "metadata": {
            "needs_background": "light"
          }
        },
        {
          "output_type": "display_data",
          "data": {
            "text/plain": [
              "<Figure size 360x360 with 1 Axes>"
            ],
            "image/png": "[encoded data removed]"
          },
          "metadata": {
            "needs_background": "light"
          }
        }
      ]
    },
    {
      "cell_type": "code",
      "source": [
        "category_df = pd.get_dummies(df['Category'], prefix='category_', drop_first=True)\n"
      ],
      "metadata": {
        "id": "683sHdxjBukd"
      },
      "execution_count": null,
      "outputs": []
    },
    {
      "cell_type": "code",
      "source": [
        "df = pd.concat([df, category_df], axis=\"columns\")"
      ],
      "metadata": {
        "id": "lthFPBomHFcP"
      },
      "execution_count": null,
      "outputs": []
    },
    {
      "cell_type": "code",
      "source": [
        "df.drop(['Category'], axis=1, inplace=True)"
      ],
      "metadata": {
        "id": "P401yq4rEidE"
      },
      "execution_count": null,
      "outputs": []
    },
    {
      "cell_type": "markdown",
      "source": [
        "## Feature Selection"
      ],
      "metadata": {
        "id": "RfdnBbP3hGFR"
      }
    },
    {
      "cell_type": "markdown",
      "source": [
        "# Model Training"
      ],
      "metadata": {
        "id": "R_Y9Q-4xhYiy"
      }
    },
    {
      "cell_type": "markdown",
      "source": [
        "## Train Test split"
      ],
      "metadata": {
        "id": "53If1wEUhlWR"
      }
    },
    {
      "cell_type": "code",
      "source": [
        "feature_columns = [x for x in list(df.columns) if x not in ['Class']]"
      ],
      "metadata": {
        "id": "Ub_B1WPdii-3"
      },
      "execution_count": null,
      "outputs": []
    },
    {
      "cell_type": "code",
      "source": [
        "feature_columns[:10]"
      ],
      "metadata": {
        "colab": {
          "base_uri": "https://localhost:8080/"
        },
        "id": "7rXD2kSP9fAu",
        "outputId": "c21d45d9-7184-4b80-c1c2-1cc81a59be0f"
      },
      "execution_count": null,
      "outputs": [
        {
          "output_type": "execute_result",
          "data": {
            "text/plain": [
              "['Rating',\n",
              " 'Number of ratings',\n",
              " 'Price',\n",
              " 'Dangerous permissions count',\n",
              " 'Safe permissions count',\n",
              " 'Default : Access DRM content. (S)',\n",
              " 'Default : Access Email provider data (S)',\n",
              " 'Default : Access all system downloads (S)',\n",
              " 'Default : Access download manager. (S)',\n",
              " 'Default : Advanced download manager functions. (S)']"
            ]
          },
          "metadata": {},
          "execution_count": 130
        }
      ]
    },
    {
      "cell_type": "code",
      "source": [
        "X = df[feature_columns]\n",
        "y = df['Class']"
      ],
      "metadata": {
        "id": "gUWG54nIi8sq"
      },
      "execution_count": null,
      "outputs": []
    },
    {
      "cell_type": "code",
      "source": [
        "# Splitting the dataset into the Training set and Test set in 70:30 ratio\n",
        "classficationModel = ClassficationModel(X,y)"
      ],
      "metadata": {
        "id": "sV1ZNWVrhjGK"
      },
      "execution_count": null,
      "outputs": []
    },
    {
      "cell_type": "code",
      "source": [
        "# Check the shape of train and dataset\n",
        "#print(f\"Total rows in train is {X_train.shape[0]} and test is {X_test.shape[0]}\")"
      ],
      "metadata": {
        "id": "RfiwgY0Ohs9-"
      },
      "execution_count": null,
      "outputs": []
    },
    {
      "cell_type": "markdown",
      "source": [
        "## LOGISTIC REGRESSION"
      ],
      "metadata": {
        "id": "hhBUeuf_PQ3D"
      }
    },
    {
      "cell_type": "code",
      "source": [
        "logistic_classifier = LogisticRegression()"
      ],
      "metadata": {
        "id": "t0UF_QsGPSdQ"
      },
      "execution_count": null,
      "outputs": []
    },
    {
      "cell_type": "code",
      "source": [
        "classficationModel.model(logistic_classifier,\"Logistic Regression\")"
      ],
      "metadata": {
        "colab": {
          "base_uri": "https://localhost:8080/"
        },
        "id": "9w8r1VhJQHuE",
        "outputId": "80de6d45-ec03-4549-d445-af188cf0983c"
      },
      "execution_count": null,
      "outputs": [
        {
          "output_type": "stream",
          "name": "stderr",
          "text": [
            "/usr/local/lib/python3.7/dist-packages/sklearn/linear_model/_logistic.py:818: ConvergenceWarning: lbfgs failed to converge (status=1):\n",
            "STOP: TOTAL NO. of ITERATIONS REACHED LIMIT.\n",
            "\n",
            "Increase the number of iterations (max_iter) or scale the data as shown in:\n",
            "    https://scikit-learn.org/stable/modules/preprocessing.html\n",
            "Please also refer to the documentation for alternative solver options:\n",
            "    https://scikit-learn.org/stable/modules/linear_model.html#logistic-regression\n",
            "  extra_warning_msg=_LOGISTIC_SOLVER_CONVERGENCE_MSG,\n"
          ]
        }
      ]
    },
    {
      "cell_type": "code",
      "source": [
        "classficationModel.model_evaluation_show_and_save()"
      ],
      "metadata": {
        "colab": {
          "base_uri": "https://localhost:8080/"
        },
        "id": "wK40WGPVQNK7",
        "outputId": "91609fc2-ed81-4abf-df9e-7b4a27f78d18"
      },
      "execution_count": null,
      "outputs": [
        {
          "output_type": "stream",
          "name": "stdout",
          "text": [
            "For Train Data: \n",
            "AUC  :  0.73372341710569\n",
            "Accuracy  :  0.7897098414597666\n",
            "Precision  :  0.8052911113338009\n",
            "Recall  :  0.9024143739472207\n",
            "----------------------------------------\n",
            "For Test Data: \n",
            "AUC  :  0.7340850943537353\n",
            "Accuracy  :  0.7909979064898813\n",
            "Precision  :  0.807889822595705\n",
            "Recall  :  0.9022419186652764\n"
          ]
        }
      ]
    },
    {
      "cell_type": "markdown",
      "source": [
        "## DECISION TREE"
      ],
      "metadata": {
        "id": "1iGT29wJ0oPQ"
      }
    },
    {
      "cell_type": "code",
      "source": [
        "decision_classifier = DecisionTreeClassifier(max_depth=7,\n",
        "                      max_features=7, max_leaf_nodes=100)"
      ],
      "metadata": {
        "id": "uprv_SAt0pXL"
      },
      "execution_count": null,
      "outputs": []
    },
    {
      "cell_type": "code",
      "source": [
        "classficationModel.model(decision_classifier,\"Decision Tree\")"
      ],
      "metadata": {
        "id": "HJIQVPad0zti"
      },
      "execution_count": null,
      "outputs": []
    },
    {
      "cell_type": "code",
      "source": [
        "classficationModel.get_predicted_values()"
      ],
      "metadata": {
        "colab": {
          "base_uri": "https://localhost:8080/"
        },
        "id": "lRJUL0W-AHxa",
        "outputId": "3a0c5f68-c0c4-4456-cdbe-094a80e80957"
      },
      "execution_count": null,
      "outputs": [
        {
          "output_type": "execute_result",
          "data": {
            "text/plain": [
              "array([1, 1, 1, ..., 1, 1, 1])"
            ]
          },
          "metadata": {},
          "execution_count": 139
        }
      ]
    },
    {
      "cell_type": "code",
      "source": [
        "classficationModel.model_evaluation_show_and_save()"
      ],
      "metadata": {
        "colab": {
          "base_uri": "https://localhost:8080/"
        },
        "id": "DdEWSTQT1RYn",
        "outputId": "2ca00879-9081-4c85-d378-82dd83baa53a"
      },
      "execution_count": null,
      "outputs": [
        {
          "output_type": "stream",
          "name": "stdout",
          "text": [
            "For Train Data: \n",
            "AUC  :  0.5498764600645547\n",
            "Accuracy  :  0.6785821118755608\n",
            "Precision  :  0.6904820970809559\n",
            "Recall  :  0.9376754632229085\n",
            "----------------------------------------\n",
            "For Test Data: \n",
            "AUC  :  0.544072532921512\n",
            "Accuracy  :  0.6734124214933705\n",
            "Precision  :  0.690976273823415\n",
            "Recall  :  0.9262252346193952\n"
          ]
        }
      ]
    },
    {
      "cell_type": "markdown",
      "source": [
        "## RANDOM FOREST"
      ],
      "metadata": {
        "id": "VSgmjyJoFxqi"
      }
    },
    {
      "cell_type": "code",
      "source": [
        "random_classifier = RandomForestClassifier()"
      ],
      "metadata": {
        "id": "wT_uZ0nIF74C"
      },
      "execution_count": null,
      "outputs": []
    },
    {
      "cell_type": "code",
      "source": [
        "classficationModel.model(random_classifier,\"Random Forest\")"
      ],
      "metadata": {
        "id": "XYKQlRdtGCdk"
      },
      "execution_count": null,
      "outputs": []
    },
    {
      "cell_type": "code",
      "source": [
        "classficationModel.model_evaluation_show_and_save()"
      ],
      "metadata": {
        "colab": {
          "base_uri": "https://localhost:8080/"
        },
        "id": "sBNVSA2MJtcT",
        "outputId": "e668c5ef-acbb-49c7-994a-6edbd96c2c45"
      },
      "execution_count": null,
      "outputs": [
        {
          "output_type": "stream",
          "name": "stdout",
          "text": [
            "For Train Data: \n",
            "AUC  :  0.9975914583293267\n",
            "Accuracy  :  0.997980855518995\n",
            "Precision  :  0.9982042648709315\n",
            "Recall  :  0.9987647389107243\n",
            "----------------------------------------\n",
            "For Test Data: \n",
            "AUC  :  0.8659872823748367\n",
            "Accuracy  :  0.8832868108862526\n",
            "Precision  :  0.9092788834324115\n",
            "Recall  :  0.9171011470281544\n"
          ]
        }
      ]
    },
    {
      "cell_type": "markdown",
      "source": [
        "## GRADIENT BOOSTING "
      ],
      "metadata": {
        "id": "NkXGDtWIOAeO"
      }
    },
    {
      "cell_type": "code",
      "source": [
        "gradient_classifier = GradientBoostingClassifier()"
      ],
      "metadata": {
        "id": "UByT2NIPORVr"
      },
      "execution_count": null,
      "outputs": []
    },
    {
      "cell_type": "code",
      "source": [
        "classficationModel.model(gradient_classifier,\"Gradient Boosting\")"
      ],
      "metadata": {
        "id": "z4u35OvwOXwj"
      },
      "execution_count": null,
      "outputs": []
    },
    {
      "cell_type": "code",
      "source": [
        "classficationModel.model_evaluation_show_and_save()"
      ],
      "metadata": {
        "colab": {
          "base_uri": "https://localhost:8080/"
        },
        "id": "DLqeWg_fObfW",
        "outputId": "c02ee2bb-9299-4134-b1fa-8d113387db37"
      },
      "execution_count": null,
      "outputs": [
        {
          "output_type": "stream",
          "name": "stdout",
          "text": [
            "For Train Data: \n",
            "AUC  :  0.8542230772875942\n",
            "Accuracy  :  0.8712234519892312\n",
            "Precision  :  0.9015990159901599\n",
            "Recall  :  0.9054463784390792\n",
            "----------------------------------------\n",
            "For Test Data: \n",
            "AUC  :  0.8553568128720583\n",
            "Accuracy  :  0.8733426378227495\n",
            "Precision  :  0.9028497409326425\n",
            "Recall  :  0.9084984358706987\n"
          ]
        }
      ]
    },
    {
      "cell_type": "markdown",
      "source": [
        "## KNN"
      ],
      "metadata": {
        "id": "UZCdTgI-Qikl"
      }
    },
    {
      "cell_type": "code",
      "source": [
        "knn_classifier = KNeighborsClassifier()"
      ],
      "metadata": {
        "id": "0UP-TMtkQj09"
      },
      "execution_count": null,
      "outputs": []
    },
    {
      "cell_type": "code",
      "source": [
        "classficationModel.model(knn_classifier,\"KNN\")"
      ],
      "metadata": {
        "id": "VaeYMHbmRCZm"
      },
      "execution_count": null,
      "outputs": []
    },
    {
      "cell_type": "code",
      "source": [
        "classficationModel.model_evaluation_show_and_save()"
      ],
      "metadata": {
        "colab": {
          "base_uri": "https://localhost:8080/"
        },
        "id": "nVcZlvAbRGic",
        "outputId": "b6a20ada-344a-4ced-a933-6de892f42d8e"
      },
      "execution_count": null,
      "outputs": [
        {
          "output_type": "stream",
          "name": "stdout",
          "text": [
            "For Train Data: \n",
            "AUC  :  0.8189528625102395\n",
            "Accuracy  :  0.8338318875261741\n",
            "Precision  :  0.8840363176646362\n",
            "Recall  :  0.8637843907916901\n",
            "----------------------------------------\n",
            "For Test Data: \n",
            "AUC  :  0.7334625224939832\n",
            "Accuracy  :  0.7576762037683182\n",
            "Precision  :  0.8281040493429874\n",
            "Recall  :  0.8050052137643379\n"
          ]
        }
      ]
    },
    {
      "cell_type": "markdown",
      "source": [
        "## NAIVE BAYES"
      ],
      "metadata": {
        "id": "ugS_ElmrTQyG"
      }
    },
    {
      "cell_type": "code",
      "source": [
        "naive_classifer = GaussianNB()"
      ],
      "metadata": {
        "id": "iaZwUnaHUS6L"
      },
      "execution_count": null,
      "outputs": []
    },
    {
      "cell_type": "code",
      "source": [
        "classficationModel.model(naive_classifer,\"Naive Bayes\")"
      ],
      "metadata": {
        "id": "0yVnNvCYUveH"
      },
      "execution_count": null,
      "outputs": []
    },
    {
      "cell_type": "code",
      "source": [
        "classficationModel.model_evaluation_show_and_save()"
      ],
      "metadata": {
        "colab": {
          "base_uri": "https://localhost:8080/"
        },
        "id": "E4835oFHU5vd",
        "outputId": "efd904b9-f34e-429b-dd8e-4c0ff27bbe2e"
      },
      "execution_count": null,
      "outputs": [
        {
          "output_type": "stream",
          "name": "stdout",
          "text": [
            "For Train Data: \n",
            "AUC  :  0.8182718436668327\n",
            "Accuracy  :  0.7856715524977566\n",
            "Precision  :  0.9450257921886515\n",
            "Recall  :  0.7200449185850646\n",
            "----------------------------------------\n",
            "For Test Data: \n",
            "AUC  :  0.8153155977349824\n",
            "Accuracy  :  0.7827983251919051\n",
            "Precision  :  0.9426033481380253\n",
            "Recall  :  0.7192387904066736\n"
          ]
        }
      ]
    },
    {
      "cell_type": "code",
      "source": [
        "classficationModel.show_model_scores().T"
      ],
      "metadata": {
        "colab": {
          "base_uri": "https://localhost:8080/",
          "height": 425
        },
        "id": "q-l4vAojVek7",
        "outputId": "3cd60e78-f92c-4612-a566-b612db69caec"
      },
      "execution_count": null,
      "outputs": [
        {
          "output_type": "execute_result",
          "data": {
            "text/plain": [
              "                                AUC  Accuracy  Precision    Recall\n",
              "Train Logistic Regression  0.733723  0.789710   0.805291  0.902414\n",
              "      Decision Tree        0.549876  0.678582   0.690482  0.937675\n",
              "      Random Forest        0.997591  0.997981   0.998204  0.998765\n",
              "      Gradient Boosting    0.854223  0.871223   0.901599  0.905446\n",
              "      KNN                  0.818953  0.833832   0.884036  0.863784\n",
              "      Naive Bayes          0.818272  0.785672   0.945026  0.720045\n",
              "Test  Logistic Regression  0.734085  0.790998   0.807890  0.902242\n",
              "      Decision Tree        0.544073  0.673412   0.690976  0.926225\n",
              "      Random Forest        0.865987  0.883287   0.909279  0.917101\n",
              "      Gradient Boosting    0.855357  0.873343   0.902850  0.908498\n",
              "      KNN                  0.733463  0.757676   0.828104  0.805005\n",
              "      Naive Bayes          0.815316  0.782798   0.942603  0.719239"
            ],
            "text/html": [
              "\n",
              "  <div id=\"df-26873a21-e5c2-4dc8-896e-f1bc01c9654c\">\n",
              "    <div class=\"colab-df-container\">\n",
              "      <div>\n",
              "<style scoped>\n",
              "    .dataframe tbody tr th:only-of-type {\n",
              "        vertical-align: middle;\n",
              "    }\n",
              "\n",
              "    .dataframe tbody tr th {\n",
              "        vertical-align: top;\n",
              "    }\n",
              "\n",
              "    .dataframe thead th {\n",
              "        text-align: right;\n",
              "    }\n",
              "</style>\n",
              "<table border=\"1\" class=\"dataframe\">\n",
              "  <thead>\n",
              "    <tr style=\"text-align: right;\">\n",
              "      <th></th>\n",
              "      <th></th>\n",
              "      <th>AUC</th>\n",
              "      <th>Accuracy</th>\n",
              "      <th>Precision</th>\n",
              "      <th>Recall</th>\n",
              "    </tr>\n",
              "  </thead>\n",
              "  <tbody>\n",
              "    <tr>\n",
              "      <th rowspan=\"6\" valign=\"top\">Train</th>\n",
              "      <th>Logistic Regression</th>\n",
              "      <td>0.733723</td>\n",
              "      <td>0.789710</td>\n",
              "      <td>0.805291</td>\n",
              "      <td>0.902414</td>\n",
              "    </tr>\n",
              "    <tr>\n",
              "      <th>Decision Tree</th>\n",
              "      <td>0.549876</td>\n",
              "      <td>0.678582</td>\n",
              "      <td>0.690482</td>\n",
              "      <td>0.937675</td>\n",
              "    </tr>\n",
              "    <tr>\n",
              "      <th>Random Forest</th>\n",
              "      <td>0.997591</td>\n",
              "      <td>0.997981</td>\n",
              "      <td>0.998204</td>\n",
              "      <td>0.998765</td>\n",
              "    </tr>\n",
              "    <tr>\n",
              "      <th>Gradient Boosting</th>\n",
              "      <td>0.854223</td>\n",
              "      <td>0.871223</td>\n",
              "      <td>0.901599</td>\n",
              "      <td>0.905446</td>\n",
              "    </tr>\n",
              "    <tr>\n",
              "      <th>KNN</th>\n",
              "      <td>0.818953</td>\n",
              "      <td>0.833832</td>\n",
              "      <td>0.884036</td>\n",
              "      <td>0.863784</td>\n",
              "    </tr>\n",
              "    <tr>\n",
              "      <th>Naive Bayes</th>\n",
              "      <td>0.818272</td>\n",
              "      <td>0.785672</td>\n",
              "      <td>0.945026</td>\n",
              "      <td>0.720045</td>\n",
              "    </tr>\n",
              "    <tr>\n",
              "      <th rowspan=\"6\" valign=\"top\">Test</th>\n",
              "      <th>Logistic Regression</th>\n",
              "      <td>0.734085</td>\n",
              "      <td>0.790998</td>\n",
              "      <td>0.807890</td>\n",
              "      <td>0.902242</td>\n",
              "    </tr>\n",
              "    <tr>\n",
              "      <th>Decision Tree</th>\n",
              "      <td>0.544073</td>\n",
              "      <td>0.673412</td>\n",
              "      <td>0.690976</td>\n",
              "      <td>0.926225</td>\n",
              "    </tr>\n",
              "    <tr>\n",
              "      <th>Random Forest</th>\n",
              "      <td>0.865987</td>\n",
              "      <td>0.883287</td>\n",
              "      <td>0.909279</td>\n",
              "      <td>0.917101</td>\n",
              "    </tr>\n",
              "    <tr>\n",
              "      <th>Gradient Boosting</th>\n",
              "      <td>0.855357</td>\n",
              "      <td>0.873343</td>\n",
              "      <td>0.902850</td>\n",
              "      <td>0.908498</td>\n",
              "    </tr>\n",
              "    <tr>\n",
              "      <th>KNN</th>\n",
              "      <td>0.733463</td>\n",
              "      <td>0.757676</td>\n",
              "      <td>0.828104</td>\n",
              "      <td>0.805005</td>\n",
              "    </tr>\n",
              "    <tr>\n",
              "      <th>Naive Bayes</th>\n",
              "      <td>0.815316</td>\n",
              "      <td>0.782798</td>\n",
              "      <td>0.942603</td>\n",
              "      <td>0.719239</td>\n",
              "    </tr>\n",
              "  </tbody>\n",
              "</table>\n",
              "</div>\n",
              "      <button class=\"colab-df-convert\" onclick=\"convertToInteractive('df-26873a21-e5c2-4dc8-896e-f1bc01c9654c')\"\n",
              "              title=\"Convert this dataframe to an interactive table.\"\n",
              "              style=\"display:none;\">\n",
              "        \n",
              "  <svg xmlns=\"http://www.w3.org/2000/svg\" height=\"24px\"viewBox=\"0 0 24 24\"\n",
              "       width=\"24px\">\n",
              "    <path d=\"M0 0h24v24H0V0z\" fill=\"none\"/>\n",
              "    <path d=\"M18.56 5.44l.94 2.06.94-2.06 2.06-.94-2.06-.94-.94-2.06-.94 2.06-2.06.94zm-11 1L8.5 8.5l.94-2.06 2.06-.94-2.06-.94L8.5 2.5l-.94 2.06-2.06.94zm10 10l.94 2.06.94-2.06 2.06-.94-2.06-.94-.94-2.06-.94 2.06-2.06.94z\"/><path d=\"M17.41 7.96l-1.37-1.37c-.4-.4-.92-.59-1.43-.59-.52 0-1.04.2-1.43.59L10.3 9.45l-7.72 7.72c-.78.78-.78 2.05 0 2.83L4 21.41c.39.39.9.59 1.41.59.51 0 1.02-.2 1.41-.59l7.78-7.78 2.81-2.81c.8-.78.8-2.07 0-2.86zM5.41 20L4 18.59l7.72-7.72 1.47 1.35L5.41 20z\"/>\n",
              "  </svg>\n",
              "      </button>\n",
              "      \n",
              "  <style>\n",
              "    .colab-df-container {\n",
              "      display:flex;\n",
              "      flex-wrap:wrap;\n",
              "      gap: 12px;\n",
              "    }\n",
              "\n",
              "    .colab-df-convert {\n",
              "      background-color: #E8F0FE;\n",
              "      border: none;\n",
              "      border-radius: 50%;\n",
              "      cursor: pointer;\n",
              "      display: none;\n",
              "      fill: #1967D2;\n",
              "      height: 32px;\n",
              "      padding: 0 0 0 0;\n",
              "      width: 32px;\n",
              "    }\n",
              "\n",
              "    .colab-df-convert:hover {\n",
              "      background-color: #E2EBFA;\n",
              "      box-shadow: 0px 1px 2px rgba(60, 64, 67, 0.3), 0px 1px 3px 1px rgba(60, 64, 67, 0.15);\n",
              "      fill: #174EA6;\n",
              "    }\n",
              "\n",
              "    [theme=dark] .colab-df-convert {\n",
              "      background-color: #3B4455;\n",
              "      fill: #D2E3FC;\n",
              "    }\n",
              "\n",
              "    [theme=dark] .colab-df-convert:hover {\n",
              "      background-color: #434B5C;\n",
              "      box-shadow: 0px 1px 3px 1px rgba(0, 0, 0, 0.15);\n",
              "      filter: drop-shadow(0px 1px 2px rgba(0, 0, 0, 0.3));\n",
              "      fill: #FFFFFF;\n",
              "    }\n",
              "  </style>\n",
              "\n",
              "      <script>\n",
              "        const buttonEl =\n",
              "          document.querySelector('#df-26873a21-e5c2-4dc8-896e-f1bc01c9654c button.colab-df-convert');\n",
              "        buttonEl.style.display =\n",
              "          google.colab.kernel.accessAllowed ? 'block' : 'none';\n",
              "\n",
              "        async function convertToInteractive(key) {\n",
              "          const element = document.querySelector('#df-26873a21-e5c2-4dc8-896e-f1bc01c9654c');\n",
              "          const dataTable =\n",
              "            await google.colab.kernel.invokeFunction('convertToInteractive',\n",
              "                                                     [key], {});\n",
              "          if (!dataTable) return;\n",
              "\n",
              "          const docLinkHtml = 'Like what you see? Visit the ' +\n",
              "            '<a target=\"_blank\" href=https://colab.research.google.com/notebooks/data_table.ipynb>data table notebook</a>'\n",
              "            + ' to learn more about interactive tables.';\n",
              "          element.innerHTML = '';\n",
              "          dataTable['output_type'] = 'display_data';\n",
              "          await google.colab.output.renderOutput(dataTable, element);\n",
              "          const docLink = document.createElement('div');\n",
              "          docLink.innerHTML = docLinkHtml;\n",
              "          element.appendChild(docLink);\n",
              "        }\n",
              "      </script>\n",
              "    </div>\n",
              "  </div>\n",
              "  "
            ]
          },
          "metadata": {},
          "execution_count": 153
        }
      ]
    }
  ],
  "metadata": {
    "colab": {
      "collapsed_sections": [
        "_v0-n6lYUo8V",
        "AzGDqdC4fZ-b"
      ],
      "name": "ANDRIOD AUTHENTICITY PREDICTION.ipynb",
      "provenance": [],
      "toc_visible": true,
      "include_colab_link": true
    },
    "kernelspec": {
      "display_name": "Python 3",
      "name": "python3"
    },
    "language_info": {
      "name": "python"
    }
  },
  "nbformat": 4,
  "nbformat_minor": 0
}